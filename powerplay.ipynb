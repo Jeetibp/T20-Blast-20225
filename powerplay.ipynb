{
 "cells": [
  {
   "cell_type": "code",
   "execution_count": 91,
   "id": "0a6a5753-6918-4268-b333-66fa01099593",
   "metadata": {},
   "outputs": [],
   "source": [
    "import pandas as pd\n",
    "import numpy as np\n",
    "import math\n",
    "import matplotlib.pyplot as plt\n",
    "\n",
    "\n",
    "import warnings\n",
    "warnings.filterwarnings('ignore')\n",
    "\n",
    "pd.set_option('display.max_columns',None)\n",
    "pd.set_option('display.max_row',None)\n",
    "pd.set_option('display.expand_frame_repr',False)\n",
    "pd.set_option('display.max_colwidth',None)\n",
    "\n"
   ]
  },
  {
   "cell_type": "code",
   "execution_count": 93,
   "id": "c4ff8707-578b-4b46-a1cc-11e569a020ee",
   "metadata": {},
   "outputs": [],
   "source": [
    "#ipl data 23 and 24 only\n",
    "deliveries = pd.read_csv('all_matches_updated.csv')\n"
   ]
  },
  {
   "cell_type": "code",
   "execution_count": 94,
   "id": "db8b161f-280d-4550-9973-8b73bdc4f7c0",
   "metadata": {},
   "outputs": [],
   "source": [
    "df = deliveries.copy()"
   ]
  },
  {
   "cell_type": "code",
   "execution_count": 95,
   "id": "e9da14ba-c013-40d8-a1dc-57f0b628a117",
   "metadata": {},
   "outputs": [
    {
     "data": {
      "text/plain": [
       "Index(['match_id', 'season', 'start_date', 'venue', 'innings', 'ball',\n",
       "       'batting_team', 'bowling_team', 'striker', 'non_striker', 'bowler',\n",
       "       'runs_off_bat', 'extras', 'wides', 'noballs', 'byes', 'legbyes',\n",
       "       'penalty', 'wicket_type', 'player_dismissed', 'other_wicket_type',\n",
       "       'other_player_dismissed'],\n",
       "      dtype='object')"
      ]
     },
     "execution_count": 95,
     "metadata": {},
     "output_type": "execute_result"
    }
   ],
   "source": [
    "df.columns"
   ]
  },
  {
   "cell_type": "code",
   "execution_count": 96,
   "id": "facf646f-0392-4f2d-862d-b8f0e6586a52",
   "metadata": {},
   "outputs": [],
   "source": [
    "df = df.rename(columns={'ball':'balls'})\n",
    "df = df.rename(columns={'over':'balls'})\n",
    "df = df.rename(columns={'runs_off_bat':'batsman_runs'})\n",
    "df = df.rename(columns={'innings':'inning'})\n",
    "df['total_runs'] = df['batsman_runs'] + df['extras']"
   ]
  },
  {
   "cell_type": "code",
   "execution_count": 97,
   "id": "cc8fc9e7-6688-4d07-9bb8-410452d597a7",
   "metadata": {},
   "outputs": [],
   "source": [
    "# Split the 'balls' column into 'over' and 'ball'\n",
    "df[['over', 'ball']] = df['balls'].astype(str).str.split('.', expand=True)\n",
    "\n",
    "# Convert to appropriate data types\n",
    "df['over'] = df['over'].astype(int)\n",
    "df['ball'] = df['ball'].astype(int)\n",
    "\n"
   ]
  },
  {
   "cell_type": "code",
   "execution_count": 98,
   "id": "568c6069-e3e4-49fa-a301-af575b9e2138",
   "metadata": {},
   "outputs": [],
   "source": [
    "wicket_types = [\n",
    "    'caught', 'bowled', 'lbw', 'run out', 'stumped',\n",
    "    'caught and bowled', 'retired hurt', 'hit wicket'\n",
    "]\n",
    "\n",
    "df['is_wicket'] = df['wicket_type'].apply(lambda x: 1 if x in wicket_types else 0)\n"
   ]
  },
  {
   "cell_type": "code",
   "execution_count": 99,
   "id": "448ee2a5-4d85-46ac-aac4-2e495485589f",
   "metadata": {},
   "outputs": [
    {
     "data": {
      "text/html": [
       "<div>\n",
       "<style scoped>\n",
       "    .dataframe tbody tr th:only-of-type {\n",
       "        vertical-align: middle;\n",
       "    }\n",
       "\n",
       "    .dataframe tbody tr th {\n",
       "        vertical-align: top;\n",
       "    }\n",
       "\n",
       "    .dataframe thead th {\n",
       "        text-align: right;\n",
       "    }\n",
       "</style>\n",
       "<table border=\"1\" class=\"dataframe\">\n",
       "  <thead>\n",
       "    <tr style=\"text-align: right;\">\n",
       "      <th></th>\n",
       "      <th>match_id</th>\n",
       "      <th>season</th>\n",
       "      <th>start_date</th>\n",
       "      <th>venue</th>\n",
       "      <th>inning</th>\n",
       "      <th>balls</th>\n",
       "      <th>batting_team</th>\n",
       "      <th>bowling_team</th>\n",
       "      <th>striker</th>\n",
       "      <th>non_striker</th>\n",
       "      <th>bowler</th>\n",
       "      <th>batsman_runs</th>\n",
       "      <th>extras</th>\n",
       "      <th>wides</th>\n",
       "      <th>noballs</th>\n",
       "      <th>byes</th>\n",
       "      <th>legbyes</th>\n",
       "      <th>penalty</th>\n",
       "      <th>wicket_type</th>\n",
       "      <th>player_dismissed</th>\n",
       "      <th>other_wicket_type</th>\n",
       "      <th>other_player_dismissed</th>\n",
       "      <th>total_runs</th>\n",
       "      <th>over</th>\n",
       "      <th>ball</th>\n",
       "      <th>is_wicket</th>\n",
       "    </tr>\n",
       "  </thead>\n",
       "  <tbody>\n",
       "    <tr>\n",
       "      <th>0</th>\n",
       "      <td>947091</td>\n",
       "      <td>2016</td>\n",
       "      <td>2016-05-20</td>\n",
       "      <td>Trent Bridge</td>\n",
       "      <td>1</td>\n",
       "      <td>0.1</td>\n",
       "      <td>Nottinghamshire</td>\n",
       "      <td>Warwickshire</td>\n",
       "      <td>MJ Lumb</td>\n",
       "      <td>MH Wessels</td>\n",
       "      <td>OJ Hannon-Dalby</td>\n",
       "      <td>0</td>\n",
       "      <td>1</td>\n",
       "      <td>1.0</td>\n",
       "      <td>NaN</td>\n",
       "      <td>NaN</td>\n",
       "      <td>NaN</td>\n",
       "      <td>NaN</td>\n",
       "      <td>NaN</td>\n",
       "      <td>NaN</td>\n",
       "      <td>NaN</td>\n",
       "      <td>NaN</td>\n",
       "      <td>1</td>\n",
       "      <td>0</td>\n",
       "      <td>1</td>\n",
       "      <td>0</td>\n",
       "    </tr>\n",
       "  </tbody>\n",
       "</table>\n",
       "</div>"
      ],
      "text/plain": [
       "   match_id  season  start_date         venue  inning  balls     batting_team  bowling_team  striker non_striker           bowler  batsman_runs  extras  wides  noballs  byes  legbyes  penalty wicket_type player_dismissed  other_wicket_type  other_player_dismissed  total_runs  over  ball  is_wicket\n",
       "0    947091    2016  2016-05-20  Trent Bridge       1    0.1  Nottinghamshire  Warwickshire  MJ Lumb  MH Wessels  OJ Hannon-Dalby             0       1    1.0      NaN   NaN      NaN      NaN         NaN              NaN                NaN                     NaN           1     0     1          0"
      ]
     },
     "execution_count": 99,
     "metadata": {},
     "output_type": "execute_result"
    }
   ],
   "source": [
    "df.head(1)"
   ]
  },
  {
   "cell_type": "code",
   "execution_count": null,
   "id": "71dfad00-0561-48df-96ab-471e57a7bbe8",
   "metadata": {},
   "outputs": [],
   "source": []
  },
  {
   "cell_type": "code",
   "execution_count": null,
   "id": "08178083-094b-4cd6-b93a-ee4dcc4a4ae4",
   "metadata": {},
   "outputs": [],
   "source": []
  },
  {
   "cell_type": "code",
   "execution_count": null,
   "id": "51c40a30-981f-4ec5-a724-cc17d5f0694a",
   "metadata": {},
   "outputs": [],
   "source": []
  },
  {
   "cell_type": "code",
   "execution_count": null,
   "id": "04140ebf-8e98-41c6-9650-ea679fadadcb",
   "metadata": {},
   "outputs": [],
   "source": []
  },
  {
   "cell_type": "code",
   "execution_count": null,
   "id": "1cb9b70a-83b0-485e-a241-d531bc2d226c",
   "metadata": {},
   "outputs": [],
   "source": []
  },
  {
   "cell_type": "code",
   "execution_count": null,
   "id": "74488d8a-624c-41a1-92c2-6182d03a28fc",
   "metadata": {},
   "outputs": [],
   "source": []
  },
  {
   "cell_type": "code",
   "execution_count": null,
   "id": "c76960a4-34d5-40cd-ba55-74e4f4d6bf3e",
   "metadata": {},
   "outputs": [],
   "source": []
  },
  {
   "cell_type": "code",
   "execution_count": 111,
   "id": "de99e4a2-8b5e-487f-87c6-16683e4628b7",
   "metadata": {},
   "outputs": [],
   "source": [
    "import plotly.graph_objects as go\n",
    "import pandas as pd\n",
    "\n",
    "def analyze_phase_patterns(df, match_ids):\n",
    "    df = df[df.match_id.isin(match_ids)]\n",
    "    \n",
    "    all_phase_data = []\n",
    "\n",
    "    fig = go.Figure()\n",
    "\n",
    "    for match_id in match_ids:\n",
    "        df_match = df[df.match_id == match_id]\n",
    "        df1 = df_match[df_match.inning == 1].reset_index(drop=True)\n",
    "        df2 = df_match[df_match.inning == 2].reset_index(drop=True)\n",
    "\n",
    "        df1['cum_runs'] = df1['total_runs'].cumsum()\n",
    "        df2['cum_runs'] = df2['total_runs'].cumsum()\n",
    "\n",
    "        df1['over_ball'] = df1['over'] + df1['ball'] / 10\n",
    "        df2['over_ball'] = df2['over'] + df2['ball'] / 10\n",
    "\n",
    "        df1['wicket'] = df1['is_wicket'].cumsum()\n",
    "        df2['wicket'] = df2['is_wicket'].cumsum()\n",
    "\n",
    "        def get_stats(df, start_over, end_over):\n",
    "            df_filtered = df[(df['over_ball'] >= start_over) & (df['over_ball'] <= end_over)]\n",
    "            if df_filtered.empty:\n",
    "                return 0, 0\n",
    "            return df_filtered['cum_runs'].iloc[-1] - df_filtered['cum_runs'].iloc[0], df_filtered['wicket'].iloc[-1] - df_filtered['wicket'].iloc[0]\n",
    "\n",
    "        # Compute stats for each phase\n",
    "        pp1_runs1, pp1_wickets1 = get_stats(df1, 0, 5.6)\n",
    "        pp1_runs2, pp1_wickets2 = get_stats(df2, 0, 5.6)\n",
    "\n",
    "        pp2_runs1, pp2_wickets1 = get_stats(df1, 5.7, 9.6)\n",
    "        pp2_runs2, pp2_wickets2 = get_stats(df2, 5.7, 9.6)\n",
    "\n",
    "        pp3_runs1, pp3_wickets1 = get_stats(df1, 9.7, 14.6)\n",
    "        pp3_runs2, pp3_wickets2 = get_stats(df2, 9.7, 14.6)\n",
    "\n",
    "        pp4_runs1, pp4_wickets1 = get_stats(df1, 14.7, df1['over_ball'].max())\n",
    "        pp4_runs2, pp4_wickets2 = get_stats(df2, 14.7, df2['over_ball'].max())\n",
    "\n",
    "        total_runs1, total_wickets1 = get_stats(df1, 0, df1['over_ball'].max())\n",
    "        total_runs2, total_wickets2 = get_stats(df2, 0, df2['over_ball'].max())\n",
    "\n",
    "        team1 = df1.batting_team.iloc[0]\n",
    "        team2 = df2.batting_team.iloc[0]\n",
    "        target = total_runs1 + 1  \n",
    "        winner = team2 if total_runs2 >= target else team1  \n",
    "\n",
    "        all_phase_data.append([match_id, team1, \"Batting First\", pp1_runs1, pp1_wickets1, pp2_runs1, pp2_wickets1, pp3_runs1, pp3_wickets1, pp4_runs1, pp4_wickets1, total_runs1, total_wickets1, winner])\n",
    "        all_phase_data.append([match_id, team2, \"Chasing\", pp1_runs2, pp1_wickets2, pp2_runs2, pp2_wickets2, pp3_runs2, pp3_wickets2, pp4_runs2, pp4_wickets2, total_runs2, total_wickets2, winner])\n",
    "\n",
    "        fig.add_trace(go.Scatter(x=df1['over_ball'], y=df1.cum_runs, mode='lines', name=f\"{team1} - Match {match_id}\", line=dict(width=2)))\n",
    "        fig.add_trace(go.Scatter(x=df2['over_ball'], y=df2.cum_runs, mode='lines', name=f\"{team2} - Match {match_id}\", line=dict(width=2)))\n",
    "\n",
    "    phase_df = pd.DataFrame(all_phase_data, columns=['Match_ID', 'Team', 'Inning Type', 'PP1_Runs', 'PP1_Wickets', 'PP2_Runs', 'PP2_Wickets', 'PP3_Runs', 'PP3_Wickets', 'PP4_Runs', 'PP4_Wickets', 'Total_Runs', 'Total_Wickets', 'Winner'])\n",
    "\n",
    "    avg_winner = phase_df[phase_df['Team'] == phase_df['Winner']].mean(numeric_only=True)\n",
    "    avg_loser = phase_df[phase_df['Team'] != phase_df['Winner']].mean(numeric_only=True)\n",
    "\n",
    "    summary_text = (\n",
    "        f\"Winner Avg: PP1 {avg_winner['PP1_Runs']:.1f} runs / {avg_winner['PP1_Wickets']:.1f} wkts, \"\n",
    "        f\"PP2 {avg_winner['PP2_Runs']:.1f} runs / {avg_winner['PP2_Wickets']:.1f} wkts, \"\n",
    "        f\"PP3 {avg_winner['PP3_Runs']:.1f} runs / {avg_winner['PP3_Wickets']:.1f} wkts, \"\n",
    "        f\"PP4 {avg_winner['PP4_Runs']:.1f} runs / {avg_winner['PP4_Wickets']:.1f} wkts\\n\"\n",
    "        f\"Loser Avg: PP1 {avg_loser['PP1_Runs']:.1f} runs / {avg_loser['PP1_Wickets']:.1f} wkts, \"\n",
    "        f\"PP2 {avg_loser['PP2_Runs']:.1f} runs / {avg_loser['PP2_Wickets']:.1f} wkts, \"\n",
    "        f\"PP3 {avg_loser['PP3_Runs']:.1f} runs / {avg_loser['PP3_Wickets']:.1f} wkts, \"\n",
    "        f\"PP4 {avg_loser['PP4_Runs']:.1f} runs / {avg_loser['PP4_Wickets']:.1f} wkts\"\n",
    "    )\n",
    "\n",
    "    fig.add_vrect(x0=0, x1=5.6, fillcolor=\"red\", opacity=0.2, layer=\"below\", line_width=0)\n",
    "    fig.add_vrect(x0=5.7, x1=9.6, fillcolor=\"yellow\", opacity=0.2, layer=\"below\", line_width=0)\n",
    "    fig.add_vrect(x0=9.7, x1=14.6, fillcolor=\"orange\", opacity=0.2, layer=\"below\", line_width=0)\n",
    "    fig.add_vrect(x0=14.7, x1=20, fillcolor=\"green\", opacity=0.2, layer=\"below\", line_width=0)\n",
    "\n",
    "    fig.add_annotation(x=2.5, y=phase_df['PP1_Runs'].max() * 0.9, text=\"PP1\", showarrow=False, font=dict(size=12))\n",
    "    fig.add_annotation(x=7.5, y=phase_df['PP2_Runs'].max() * 0.9, text=\"PP2\", showarrow=False, font=dict(size=12))\n",
    "    fig.add_annotation(x=12, y=phase_df['PP3_Runs'].max() * 0.9, text=\"PP3\", showarrow=False, font=dict(size=12))\n",
    "    fig.add_annotation(x=17, y=phase_df['PP4_Runs'].max() * 0.9, text=\"PP4\", showarrow=False, font=dict(size=12))\n",
    "\n",
    "    fig.add_annotation(\n",
    "    text=summary_text,\n",
    "    xref=\"paper\", yref=\"paper\",\n",
    "    x=0.50, y=.95,  # Adjust position within the plot\n",
    "    showarrow=False,\n",
    "    font=dict(size=10.8,color=\"blue\"),\n",
    "    bordercolor=\"black\",\n",
    "    borderwidth=1,\n",
    "    bgcolor=\"lightgray\",\n",
    "    align=\"left\"  # Ensures text wraps properly\n",
    "    )\n",
    "\n",
    "\n",
    "    fig.update_layout(\n",
    "        title=\"Multiple Matches - Runs Progression\",\n",
    "        xaxis_title='Overs',\n",
    "        yaxis_title='Runs',\n",
    "        template='plotly_dark',\n",
    "        width=1100,\n",
    "        height=600,\n",
    "        legend=dict(x=0.02, y=-0.2, orientation=\"h\", bgcolor=\"rgba(0,0,0,0.5)\")\n",
    "    )\n",
    "\n",
    "    fig.show()\n",
    "    return phase_df\n",
    "\n",
    "# Example usage:\n",
    "# phase_stats = analyze_phase_patterns(df, [match_id1, match_id2])\n"
   ]
  },
  {
   "cell_type": "code",
   "execution_count": 113,
   "id": "b3aafcb8-8a01-43bd-9304-f64cd356fa0c",
   "metadata": {},
   "outputs": [
    {
     "data": {
      "application/vnd.plotly.v1+json": {
       "config": {
        "plotlyServerURL": "https://plot.ly"
       },
       "data": [
        {
         "line": {
          "width": 2
         },
         "mode": "lines",
         "name": "Worcestershire - Match 1410487",
         "type": "scatter",
         "x": [
          0.1,
          0.2,
          0.3,
          0.4,
          0.5,
          0.6,
          0.7,
          1.1,
          1.2,
          1.3,
          1.4,
          1.5,
          1.6,
          2.1,
          2.2,
          2.3,
          2.4,
          2.5,
          2.6,
          3.1,
          3.2,
          3.3,
          3.4,
          3.5,
          3.6,
          3.7,
          4.1,
          4.2,
          4.3,
          4.4,
          4.5,
          4.6,
          5.1,
          5.2,
          5.3,
          5.4,
          5.5,
          5.6,
          6.1,
          6.2,
          6.3,
          6.4,
          6.5,
          6.6,
          7.1,
          7.2,
          7.3,
          7.4,
          7.5,
          7.6,
          8.1,
          8.2,
          8.3,
          8.4,
          8.5,
          8.6,
          9.1,
          9.2,
          9.3,
          9.4,
          9.5,
          9.6,
          10.1,
          10.2,
          10.3,
          10.4,
          10.5,
          10.6,
          11.1,
          11.2,
          11.3,
          11.4,
          11.5,
          11.6,
          12.1,
          12.2,
          12.3,
          12.4,
          12.5,
          12.6,
          13.1,
          13.2,
          13.3,
          13.4,
          13.5,
          13.6,
          14.1,
          14.2,
          14.3,
          14.4,
          14.5,
          14.6,
          14.7,
          15.1,
          15.2,
          15.3,
          15.4,
          15.5,
          15.6,
          16.1,
          16.2,
          16.3,
          16.4,
          16.5,
          16.6,
          17.1,
          17.2,
          17.3,
          17.4,
          17.5,
          17.6,
          17.7,
          18.1,
          18.2,
          18.3,
          18.4,
          18.5,
          18.6,
          19.1,
          19.2,
          19.3,
          19.4,
          19.5,
          19.6
         ],
         "y": [
          0,
          0,
          1,
          1,
          1,
          1,
          1,
          1,
          5,
          5,
          9,
          10,
          10,
          12,
          13,
          14,
          15,
          16,
          20,
          24,
          24,
          24,
          24,
          25,
          29,
          29,
          29,
          33,
          34,
          34,
          38,
          39,
          43,
          47,
          48,
          49,
          49,
          49,
          50,
          51,
          52,
          52,
          56,
          57,
          58,
          60,
          61,
          61,
          62,
          66,
          66,
          72,
          74,
          78,
          78,
          78,
          78,
          78,
          78,
          80,
          81,
          85,
          89,
          89,
          90,
          90,
          91,
          91,
          93,
          97,
          98,
          99,
          103,
          103,
          104,
          105,
          105,
          105,
          109,
          111,
          111,
          111,
          112,
          113,
          114,
          114,
          120,
          121,
          121,
          122,
          124,
          126,
          127,
          133,
          134,
          138,
          139,
          140,
          140,
          144,
          145,
          146,
          146,
          147,
          148,
          149,
          149,
          149,
          150,
          152,
          153,
          154,
          155,
          157,
          158,
          158,
          162,
          163,
          167,
          167,
          167,
          168,
          168,
          169
         ]
        },
        {
         "line": {
          "width": 2
         },
         "mode": "lines",
         "name": "Derbyshire - Match 1410487",
         "type": "scatter",
         "x": [
          0.1,
          0.2,
          0.3,
          0.4,
          0.5,
          0.6,
          1.1,
          1.2,
          1.3,
          1.4,
          1.5,
          1.6,
          2.1,
          2.2,
          2.3,
          2.4,
          2.5,
          2.6,
          3.1,
          3.2,
          3.3,
          3.4,
          3.5,
          3.6,
          4.1,
          4.2,
          4.3,
          4.4,
          4.5,
          4.6,
          5.1,
          5.2,
          5.3,
          5.4,
          5.5,
          5.6,
          6.1,
          6.2,
          6.3,
          6.4,
          6.5,
          6.6,
          7.1,
          7.2,
          7.3,
          7.4,
          7.5,
          7.6,
          8.1,
          8.2,
          8.3,
          8.4,
          8.5,
          8.6,
          9.1,
          9.2,
          9.3,
          9.4,
          9.5,
          9.6,
          10.1,
          10.2,
          10.3,
          10.4,
          10.5,
          10.6,
          11.1,
          11.2,
          11.3,
          11.4,
          11.5,
          11.6,
          12.1,
          12.2,
          12.3,
          12.4,
          12.5,
          12.6,
          13.1,
          13.2,
          13.3,
          13.4,
          13.5,
          13.6,
          14.1,
          14.2,
          14.3,
          14.4,
          14.5,
          14.6,
          15.1,
          15.2,
          15.3,
          15.4,
          15.5,
          15.6,
          16.1,
          16.2,
          16.3,
          16.4,
          16.5,
          16.6,
          16.7,
          17.1,
          17.2,
          17.3,
          17.4,
          17.5,
          17.6,
          18.1,
          18.2,
          18.3,
          18.4,
          18.5,
          18.6,
          18.7,
          19.1,
          19.2,
          19.3,
          19.4,
          19.5,
          19.6
         ],
         "y": [
          2,
          2,
          3,
          4,
          5,
          6,
          6,
          12,
          12,
          12,
          16,
          20,
          21,
          25,
          29,
          33,
          33,
          33,
          37,
          37,
          37,
          37,
          38,
          40,
          40,
          40,
          41,
          43,
          43,
          43,
          44,
          45,
          49,
          49,
          50,
          50,
          54,
          55,
          56,
          57,
          58,
          59,
          60,
          61,
          62,
          62,
          64,
          65,
          66,
          67,
          67,
          68,
          68,
          69,
          73,
          75,
          76,
          77,
          81,
          82,
          83,
          84,
          85,
          85,
          86,
          87,
          88,
          89,
          91,
          91,
          92,
          93,
          93,
          94,
          95,
          96,
          97,
          98,
          102,
          102,
          102,
          102,
          103,
          104,
          105,
          106,
          106,
          107,
          108,
          109,
          110,
          112,
          113,
          113,
          114,
          115,
          116,
          117,
          118,
          124,
          125,
          126,
          130,
          131,
          137,
          139,
          143,
          145,
          147,
          148,
          149,
          150,
          151,
          151,
          155,
          156,
          160,
          164,
          165,
          167,
          169,
          170
         ]
        }
       ],
       "layout": {
        "annotations": [
         {
          "font": {
           "size": 12
          },
          "showarrow": false,
          "text": "PP1",
          "x": 2.5,
          "y": 44.1
         },
         {
          "font": {
           "size": 12
          },
          "showarrow": false,
          "text": "PP2",
          "x": 7.5,
          "y": 31.5
         },
         {
          "font": {
           "size": 12
          },
          "showarrow": false,
          "text": "PP3",
          "x": 12,
          "y": 33.300000000000004
         },
         {
          "font": {
           "size": 12
          },
          "showarrow": false,
          "text": "PP4",
          "x": 17,
          "y": 54
         },
         {
          "align": "left",
          "bgcolor": "lightgray",
          "bordercolor": "black",
          "borderwidth": 1,
          "font": {
           "color": "blue",
           "size": 10.8
          },
          "showarrow": false,
          "text": "Winner Avg: PP1 49.0 runs / 2.0 wkts, PP2 35.0 runs / 1.0 wkts, PP3 37.0 runs / 0.0 wkts, PP4 42.0 runs / 5.0 wkts\nLoser Avg: PP1 48.0 runs / 2.0 wkts, PP2 28.0 runs / 0.0 wkts, PP3 26.0 runs / 2.0 wkts, PP4 60.0 runs / 1.0 wkts",
          "x": 0.5,
          "xref": "paper",
          "y": 0.95,
          "yref": "paper"
         }
        ],
        "height": 600,
        "legend": {
         "bgcolor": "rgba(0, 0, 0, 0.5)",
         "orientation": "h",
         "x": 0.02,
         "y": -0.2
        },
        "shapes": [
         {
          "fillcolor": "red",
          "layer": "below",
          "line": {
           "width": 0
          },
          "opacity": 0.2,
          "type": "rect",
          "x0": 0,
          "x1": 5.6,
          "xref": "x",
          "y0": 0,
          "y1": 1,
          "yref": "y domain"
         },
         {
          "fillcolor": "yellow",
          "layer": "below",
          "line": {
           "width": 0
          },
          "opacity": 0.2,
          "type": "rect",
          "x0": 5.7,
          "x1": 9.6,
          "xref": "x",
          "y0": 0,
          "y1": 1,
          "yref": "y domain"
         },
         {
          "fillcolor": "orange",
          "layer": "below",
          "line": {
           "width": 0
          },
          "opacity": 0.2,
          "type": "rect",
          "x0": 9.7,
          "x1": 14.6,
          "xref": "x",
          "y0": 0,
          "y1": 1,
          "yref": "y domain"
         },
         {
          "fillcolor": "green",
          "layer": "below",
          "line": {
           "width": 0
          },
          "opacity": 0.2,
          "type": "rect",
          "x0": 14.7,
          "x1": 20,
          "xref": "x",
          "y0": 0,
          "y1": 1,
          "yref": "y domain"
         }
        ],
        "template": {
         "data": {
          "bar": [
           {
            "error_x": {
             "color": "#f2f5fa"
            },
            "error_y": {
             "color": "#f2f5fa"
            },
            "marker": {
             "line": {
              "color": "rgb(17,17,17)",
              "width": 0.5
             },
             "pattern": {
              "fillmode": "overlay",
              "size": 10,
              "solidity": 0.2
             }
            },
            "type": "bar"
           }
          ],
          "barpolar": [
           {
            "marker": {
             "line": {
              "color": "rgb(17,17,17)",
              "width": 0.5
             },
             "pattern": {
              "fillmode": "overlay",
              "size": 10,
              "solidity": 0.2
             }
            },
            "type": "barpolar"
           }
          ],
          "carpet": [
           {
            "aaxis": {
             "endlinecolor": "#A2B1C6",
             "gridcolor": "#506784",
             "linecolor": "#506784",
             "minorgridcolor": "#506784",
             "startlinecolor": "#A2B1C6"
            },
            "baxis": {
             "endlinecolor": "#A2B1C6",
             "gridcolor": "#506784",
             "linecolor": "#506784",
             "minorgridcolor": "#506784",
             "startlinecolor": "#A2B1C6"
            },
            "type": "carpet"
           }
          ],
          "choropleth": [
           {
            "colorbar": {
             "outlinewidth": 0,
             "ticks": ""
            },
            "type": "choropleth"
           }
          ],
          "contour": [
           {
            "colorbar": {
             "outlinewidth": 0,
             "ticks": ""
            },
            "colorscale": [
             [
              0,
              "#0d0887"
             ],
             [
              0.1111111111111111,
              "#46039f"
             ],
             [
              0.2222222222222222,
              "#7201a8"
             ],
             [
              0.3333333333333333,
              "#9c179e"
             ],
             [
              0.4444444444444444,
              "#bd3786"
             ],
             [
              0.5555555555555556,
              "#d8576b"
             ],
             [
              0.6666666666666666,
              "#ed7953"
             ],
             [
              0.7777777777777778,
              "#fb9f3a"
             ],
             [
              0.8888888888888888,
              "#fdca26"
             ],
             [
              1,
              "#f0f921"
             ]
            ],
            "type": "contour"
           }
          ],
          "contourcarpet": [
           {
            "colorbar": {
             "outlinewidth": 0,
             "ticks": ""
            },
            "type": "contourcarpet"
           }
          ],
          "heatmap": [
           {
            "colorbar": {
             "outlinewidth": 0,
             "ticks": ""
            },
            "colorscale": [
             [
              0,
              "#0d0887"
             ],
             [
              0.1111111111111111,
              "#46039f"
             ],
             [
              0.2222222222222222,
              "#7201a8"
             ],
             [
              0.3333333333333333,
              "#9c179e"
             ],
             [
              0.4444444444444444,
              "#bd3786"
             ],
             [
              0.5555555555555556,
              "#d8576b"
             ],
             [
              0.6666666666666666,
              "#ed7953"
             ],
             [
              0.7777777777777778,
              "#fb9f3a"
             ],
             [
              0.8888888888888888,
              "#fdca26"
             ],
             [
              1,
              "#f0f921"
             ]
            ],
            "type": "heatmap"
           }
          ],
          "heatmapgl": [
           {
            "colorbar": {
             "outlinewidth": 0,
             "ticks": ""
            },
            "colorscale": [
             [
              0,
              "#0d0887"
             ],
             [
              0.1111111111111111,
              "#46039f"
             ],
             [
              0.2222222222222222,
              "#7201a8"
             ],
             [
              0.3333333333333333,
              "#9c179e"
             ],
             [
              0.4444444444444444,
              "#bd3786"
             ],
             [
              0.5555555555555556,
              "#d8576b"
             ],
             [
              0.6666666666666666,
              "#ed7953"
             ],
             [
              0.7777777777777778,
              "#fb9f3a"
             ],
             [
              0.8888888888888888,
              "#fdca26"
             ],
             [
              1,
              "#f0f921"
             ]
            ],
            "type": "heatmapgl"
           }
          ],
          "histogram": [
           {
            "marker": {
             "pattern": {
              "fillmode": "overlay",
              "size": 10,
              "solidity": 0.2
             }
            },
            "type": "histogram"
           }
          ],
          "histogram2d": [
           {
            "colorbar": {
             "outlinewidth": 0,
             "ticks": ""
            },
            "colorscale": [
             [
              0,
              "#0d0887"
             ],
             [
              0.1111111111111111,
              "#46039f"
             ],
             [
              0.2222222222222222,
              "#7201a8"
             ],
             [
              0.3333333333333333,
              "#9c179e"
             ],
             [
              0.4444444444444444,
              "#bd3786"
             ],
             [
              0.5555555555555556,
              "#d8576b"
             ],
             [
              0.6666666666666666,
              "#ed7953"
             ],
             [
              0.7777777777777778,
              "#fb9f3a"
             ],
             [
              0.8888888888888888,
              "#fdca26"
             ],
             [
              1,
              "#f0f921"
             ]
            ],
            "type": "histogram2d"
           }
          ],
          "histogram2dcontour": [
           {
            "colorbar": {
             "outlinewidth": 0,
             "ticks": ""
            },
            "colorscale": [
             [
              0,
              "#0d0887"
             ],
             [
              0.1111111111111111,
              "#46039f"
             ],
             [
              0.2222222222222222,
              "#7201a8"
             ],
             [
              0.3333333333333333,
              "#9c179e"
             ],
             [
              0.4444444444444444,
              "#bd3786"
             ],
             [
              0.5555555555555556,
              "#d8576b"
             ],
             [
              0.6666666666666666,
              "#ed7953"
             ],
             [
              0.7777777777777778,
              "#fb9f3a"
             ],
             [
              0.8888888888888888,
              "#fdca26"
             ],
             [
              1,
              "#f0f921"
             ]
            ],
            "type": "histogram2dcontour"
           }
          ],
          "mesh3d": [
           {
            "colorbar": {
             "outlinewidth": 0,
             "ticks": ""
            },
            "type": "mesh3d"
           }
          ],
          "parcoords": [
           {
            "line": {
             "colorbar": {
              "outlinewidth": 0,
              "ticks": ""
             }
            },
            "type": "parcoords"
           }
          ],
          "pie": [
           {
            "automargin": true,
            "type": "pie"
           }
          ],
          "scatter": [
           {
            "marker": {
             "line": {
              "color": "#283442"
             }
            },
            "type": "scatter"
           }
          ],
          "scatter3d": [
           {
            "line": {
             "colorbar": {
              "outlinewidth": 0,
              "ticks": ""
             }
            },
            "marker": {
             "colorbar": {
              "outlinewidth": 0,
              "ticks": ""
             }
            },
            "type": "scatter3d"
           }
          ],
          "scattercarpet": [
           {
            "marker": {
             "colorbar": {
              "outlinewidth": 0,
              "ticks": ""
             }
            },
            "type": "scattercarpet"
           }
          ],
          "scattergeo": [
           {
            "marker": {
             "colorbar": {
              "outlinewidth": 0,
              "ticks": ""
             }
            },
            "type": "scattergeo"
           }
          ],
          "scattergl": [
           {
            "marker": {
             "line": {
              "color": "#283442"
             }
            },
            "type": "scattergl"
           }
          ],
          "scattermapbox": [
           {
            "marker": {
             "colorbar": {
              "outlinewidth": 0,
              "ticks": ""
             }
            },
            "type": "scattermapbox"
           }
          ],
          "scatterpolar": [
           {
            "marker": {
             "colorbar": {
              "outlinewidth": 0,
              "ticks": ""
             }
            },
            "type": "scatterpolar"
           }
          ],
          "scatterpolargl": [
           {
            "marker": {
             "colorbar": {
              "outlinewidth": 0,
              "ticks": ""
             }
            },
            "type": "scatterpolargl"
           }
          ],
          "scatterternary": [
           {
            "marker": {
             "colorbar": {
              "outlinewidth": 0,
              "ticks": ""
             }
            },
            "type": "scatterternary"
           }
          ],
          "surface": [
           {
            "colorbar": {
             "outlinewidth": 0,
             "ticks": ""
            },
            "colorscale": [
             [
              0,
              "#0d0887"
             ],
             [
              0.1111111111111111,
              "#46039f"
             ],
             [
              0.2222222222222222,
              "#7201a8"
             ],
             [
              0.3333333333333333,
              "#9c179e"
             ],
             [
              0.4444444444444444,
              "#bd3786"
             ],
             [
              0.5555555555555556,
              "#d8576b"
             ],
             [
              0.6666666666666666,
              "#ed7953"
             ],
             [
              0.7777777777777778,
              "#fb9f3a"
             ],
             [
              0.8888888888888888,
              "#fdca26"
             ],
             [
              1,
              "#f0f921"
             ]
            ],
            "type": "surface"
           }
          ],
          "table": [
           {
            "cells": {
             "fill": {
              "color": "#506784"
             },
             "line": {
              "color": "rgb(17,17,17)"
             }
            },
            "header": {
             "fill": {
              "color": "#2a3f5f"
             },
             "line": {
              "color": "rgb(17,17,17)"
             }
            },
            "type": "table"
           }
          ]
         },
         "layout": {
          "annotationdefaults": {
           "arrowcolor": "#f2f5fa",
           "arrowhead": 0,
           "arrowwidth": 1
          },
          "autotypenumbers": "strict",
          "coloraxis": {
           "colorbar": {
            "outlinewidth": 0,
            "ticks": ""
           }
          },
          "colorscale": {
           "diverging": [
            [
             0,
             "#8e0152"
            ],
            [
             0.1,
             "#c51b7d"
            ],
            [
             0.2,
             "#de77ae"
            ],
            [
             0.3,
             "#f1b6da"
            ],
            [
             0.4,
             "#fde0ef"
            ],
            [
             0.5,
             "#f7f7f7"
            ],
            [
             0.6,
             "#e6f5d0"
            ],
            [
             0.7,
             "#b8e186"
            ],
            [
             0.8,
             "#7fbc41"
            ],
            [
             0.9,
             "#4d9221"
            ],
            [
             1,
             "#276419"
            ]
           ],
           "sequential": [
            [
             0,
             "#0d0887"
            ],
            [
             0.1111111111111111,
             "#46039f"
            ],
            [
             0.2222222222222222,
             "#7201a8"
            ],
            [
             0.3333333333333333,
             "#9c179e"
            ],
            [
             0.4444444444444444,
             "#bd3786"
            ],
            [
             0.5555555555555556,
             "#d8576b"
            ],
            [
             0.6666666666666666,
             "#ed7953"
            ],
            [
             0.7777777777777778,
             "#fb9f3a"
            ],
            [
             0.8888888888888888,
             "#fdca26"
            ],
            [
             1,
             "#f0f921"
            ]
           ],
           "sequentialminus": [
            [
             0,
             "#0d0887"
            ],
            [
             0.1111111111111111,
             "#46039f"
            ],
            [
             0.2222222222222222,
             "#7201a8"
            ],
            [
             0.3333333333333333,
             "#9c179e"
            ],
            [
             0.4444444444444444,
             "#bd3786"
            ],
            [
             0.5555555555555556,
             "#d8576b"
            ],
            [
             0.6666666666666666,
             "#ed7953"
            ],
            [
             0.7777777777777778,
             "#fb9f3a"
            ],
            [
             0.8888888888888888,
             "#fdca26"
            ],
            [
             1,
             "#f0f921"
            ]
           ]
          },
          "colorway": [
           "#636efa",
           "#EF553B",
           "#00cc96",
           "#ab63fa",
           "#FFA15A",
           "#19d3f3",
           "#FF6692",
           "#B6E880",
           "#FF97FF",
           "#FECB52"
          ],
          "font": {
           "color": "#f2f5fa"
          },
          "geo": {
           "bgcolor": "rgb(17,17,17)",
           "lakecolor": "rgb(17,17,17)",
           "landcolor": "rgb(17,17,17)",
           "showlakes": true,
           "showland": true,
           "subunitcolor": "#506784"
          },
          "hoverlabel": {
           "align": "left"
          },
          "hovermode": "closest",
          "mapbox": {
           "style": "dark"
          },
          "paper_bgcolor": "rgb(17,17,17)",
          "plot_bgcolor": "rgb(17,17,17)",
          "polar": {
           "angularaxis": {
            "gridcolor": "#506784",
            "linecolor": "#506784",
            "ticks": ""
           },
           "bgcolor": "rgb(17,17,17)",
           "radialaxis": {
            "gridcolor": "#506784",
            "linecolor": "#506784",
            "ticks": ""
           }
          },
          "scene": {
           "xaxis": {
            "backgroundcolor": "rgb(17,17,17)",
            "gridcolor": "#506784",
            "gridwidth": 2,
            "linecolor": "#506784",
            "showbackground": true,
            "ticks": "",
            "zerolinecolor": "#C8D4E3"
           },
           "yaxis": {
            "backgroundcolor": "rgb(17,17,17)",
            "gridcolor": "#506784",
            "gridwidth": 2,
            "linecolor": "#506784",
            "showbackground": true,
            "ticks": "",
            "zerolinecolor": "#C8D4E3"
           },
           "zaxis": {
            "backgroundcolor": "rgb(17,17,17)",
            "gridcolor": "#506784",
            "gridwidth": 2,
            "linecolor": "#506784",
            "showbackground": true,
            "ticks": "",
            "zerolinecolor": "#C8D4E3"
           }
          },
          "shapedefaults": {
           "line": {
            "color": "#f2f5fa"
           }
          },
          "sliderdefaults": {
           "bgcolor": "#C8D4E3",
           "bordercolor": "rgb(17,17,17)",
           "borderwidth": 1,
           "tickwidth": 0
          },
          "ternary": {
           "aaxis": {
            "gridcolor": "#506784",
            "linecolor": "#506784",
            "ticks": ""
           },
           "baxis": {
            "gridcolor": "#506784",
            "linecolor": "#506784",
            "ticks": ""
           },
           "bgcolor": "rgb(17,17,17)",
           "caxis": {
            "gridcolor": "#506784",
            "linecolor": "#506784",
            "ticks": ""
           }
          },
          "title": {
           "x": 0.05
          },
          "updatemenudefaults": {
           "bgcolor": "#506784",
           "borderwidth": 0
          },
          "xaxis": {
           "automargin": true,
           "gridcolor": "#283442",
           "linecolor": "#506784",
           "ticks": "",
           "title": {
            "standoff": 15
           },
           "zerolinecolor": "#283442",
           "zerolinewidth": 2
          },
          "yaxis": {
           "automargin": true,
           "gridcolor": "#283442",
           "linecolor": "#506784",
           "ticks": "",
           "title": {
            "standoff": 15
           },
           "zerolinecolor": "#283442",
           "zerolinewidth": 2
          }
         }
        },
        "title": {
         "text": "Multiple Matches - Runs Progression"
        },
        "width": 1100,
        "xaxis": {
         "autorange": true,
         "range": [
          0,
          20
         ],
         "title": {
          "text": "Overs"
         },
         "type": "linear"
        },
        "yaxis": {
         "autorange": true,
         "range": [
          -9.444444444444446,
          179.44444444444446
         ],
         "title": {
          "text": "Runs"
         },
         "type": "linear"
        }
       }
      },
      "image/png": "[encoded data removed]",
      "text/html": [
       "<div>                            <div id=\"8a08789c-94c5-4596-85af-9f569e6b125d\" class=\"plotly-graph-div\" style=\"height:600px; width:1100px;\"></div>            <script type=\"text/javascript\">                require([\"plotly\"], function(Plotly) {                    window.PLOTLYENV=window.PLOTLYENV || {};                                    if (document.getElementById(\"8a08789c-94c5-4596-85af-9f569e6b125d\")) {                    Plotly.newPlot(                        \"8a08789c-94c5-4596-85af-9f569e6b125d\",                        [{\"line\":{\"width\":2},\"mode\":\"lines\",\"name\":\"Worcestershire - Match 1410487\",\"x\":[0.1,0.2,0.3,0.4,0.5,0.6,0.7,1.1,1.2,1.3,1.4,1.5,1.6,2.1,2.2,2.3,2.4,2.5,2.6,3.1,3.2,3.3,3.4,3.5,3.6,3.7,4.1,4.2,4.3,4.4,4.5,4.6,5.1,5.2,5.3,5.4,5.5,5.6,6.1,6.2,6.3,6.4,6.5,6.6,7.1,7.2,7.3,7.4,7.5,7.6,8.1,8.2,8.3,8.4,8.5,8.6,9.1,9.2,9.3,9.4,9.5,9.6,10.1,10.2,10.3,10.4,10.5,10.6,11.1,11.2,11.3,11.4,11.5,11.6,12.1,12.2,12.3,12.4,12.5,12.6,13.1,13.2,13.3,13.4,13.5,13.6,14.1,14.2,14.3,14.4,14.5,14.6,14.7,15.1,15.2,15.3,15.4,15.5,15.6,16.1,16.2,16.3,16.4,16.5,16.6,17.1,17.2,17.3,17.4,17.5,17.6,17.7,18.1,18.2,18.3,18.4,18.5,18.6,19.1,19.2,19.3,19.4,19.5,19.6],\"y\":[0,0,1,1,1,1,1,1,5,5,9,10,10,12,13,14,15,16,20,24,24,24,24,25,29,29,29,33,34,34,38,39,43,47,48,49,49,49,50,51,52,52,56,57,58,60,61,61,62,66,66,72,74,78,78,78,78,78,78,80,81,85,89,89,90,90,91,91,93,97,98,99,103,103,104,105,105,105,109,111,111,111,112,113,114,114,120,121,121,122,124,126,127,133,134,138,139,140,140,144,145,146,146,147,148,149,149,149,150,152,153,154,155,157,158,158,162,163,167,167,167,168,168,169],\"type\":\"scatter\"},{\"line\":{\"width\":2},\"mode\":\"lines\",\"name\":\"Derbyshire - Match 1410487\",\"x\":[0.1,0.2,0.3,0.4,0.5,0.6,1.1,1.2,1.3,1.4,1.5,1.6,2.1,2.2,2.3,2.4,2.5,2.6,3.1,3.2,3.3,3.4,3.5,3.6,4.1,4.2,4.3,4.4,4.5,4.6,5.1,5.2,5.3,5.4,5.5,5.6,6.1,6.2,6.3,6.4,6.5,6.6,7.1,7.2,7.3,7.4,7.5,7.6,8.1,8.2,8.3,8.4,8.5,8.6,9.1,9.2,9.3,9.4,9.5,9.6,10.1,10.2,10.3,10.4,10.5,10.6,11.1,11.2,11.3,11.4,11.5,11.6,12.1,12.2,12.3,12.4,12.5,12.6,13.1,13.2,13.3,13.4,13.5,13.6,14.1,14.2,14.3,14.4,14.5,14.6,15.1,15.2,15.3,15.4,15.5,15.6,16.1,16.2,16.3,16.4,16.5,16.6,16.7,17.1,17.2,17.3,17.4,17.5,17.6,18.1,18.2,18.3,18.4,18.5,18.6,18.7,19.1,19.2,19.3,19.4,19.5,19.6],\"y\":[2,2,3,4,5,6,6,12,12,12,16,20,21,25,29,33,33,33,37,37,37,37,38,40,40,40,41,43,43,43,44,45,49,49,50,50,54,55,56,57,58,59,60,61,62,62,64,65,66,67,67,68,68,69,73,75,76,77,81,82,83,84,85,85,86,87,88,89,91,91,92,93,93,94,95,96,97,98,102,102,102,102,103,104,105,106,106,107,108,109,110,112,113,113,114,115,116,117,118,124,125,126,130,131,137,139,143,145,147,148,149,150,151,151,155,156,160,164,165,167,169,170],\"type\":\"scatter\"}],                        {\"template\":{\"data\":{\"barpolar\":[{\"marker\":{\"line\":{\"color\":\"rgb(17,17,17)\",\"width\":0.5},\"pattern\":{\"fillmode\":\"overlay\",\"size\":10,\"solidity\":0.2}},\"type\":\"barpolar\"}],\"bar\":[{\"error_x\":{\"color\":\"#f2f5fa\"},\"error_y\":{\"color\":\"#f2f5fa\"},\"marker\":{\"line\":{\"color\":\"rgb(17,17,17)\",\"width\":0.5},\"pattern\":{\"fillmode\":\"overlay\",\"size\":10,\"solidity\":0.2}},\"type\":\"bar\"}],\"carpet\":[{\"aaxis\":{\"endlinecolor\":\"#A2B1C6\",\"gridcolor\":\"#506784\",\"linecolor\":\"#506784\",\"minorgridcolor\":\"#506784\",\"startlinecolor\":\"#A2B1C6\"},\"baxis\":{\"endlinecolor\":\"#A2B1C6\",\"gridcolor\":\"#506784\",\"linecolor\":\"#506784\",\"minorgridcolor\":\"#506784\",\"startlinecolor\":\"#A2B1C6\"},\"type\":\"carpet\"}],\"choropleth\":[{\"colorbar\":{\"outlinewidth\":0,\"ticks\":\"\"},\"type\":\"choropleth\"}],\"contourcarpet\":[{\"colorbar\":{\"outlinewidth\":0,\"ticks\":\"\"},\"type\":\"contourcarpet\"}],\"contour\":[{\"colorbar\":{\"outlinewidth\":0,\"ticks\":\"\"},\"colorscale\":[[0.0,\"#0d0887\"],[0.1111111111111111,\"#46039f\"],[0.2222222222222222,\"#7201a8\"],[0.3333333333333333,\"#9c179e\"],[0.4444444444444444,\"#bd3786\"],[0.5555555555555556,\"#d8576b\"],[0.6666666666666666,\"#ed7953\"],[0.7777777777777778,\"#fb9f3a\"],[0.8888888888888888,\"#fdca26\"],[1.0,\"#f0f921\"]],\"type\":\"contour\"}],\"heatmapgl\":[{\"colorbar\":{\"outlinewidth\":0,\"ticks\":\"\"},\"colorscale\":[[0.0,\"#0d0887\"],[0.1111111111111111,\"#46039f\"],[0.2222222222222222,\"#7201a8\"],[0.3333333333333333,\"#9c179e\"],[0.4444444444444444,\"#bd3786\"],[0.5555555555555556,\"#d8576b\"],[0.6666666666666666,\"#ed7953\"],[0.7777777777777778,\"#fb9f3a\"],[0.8888888888888888,\"#fdca26\"],[1.0,\"#f0f921\"]],\"type\":\"heatmapgl\"}],\"heatmap\":[{\"colorbar\":{\"outlinewidth\":0,\"ticks\":\"\"},\"colorscale\":[[0.0,\"#0d0887\"],[0.1111111111111111,\"#46039f\"],[0.2222222222222222,\"#7201a8\"],[0.3333333333333333,\"#9c179e\"],[0.4444444444444444,\"#bd3786\"],[0.5555555555555556,\"#d8576b\"],[0.6666666666666666,\"#ed7953\"],[0.7777777777777778,\"#fb9f3a\"],[0.8888888888888888,\"#fdca26\"],[1.0,\"#f0f921\"]],\"type\":\"heatmap\"}],\"histogram2dcontour\":[{\"colorbar\":{\"outlinewidth\":0,\"ticks\":\"\"},\"colorscale\":[[0.0,\"#0d0887\"],[0.1111111111111111,\"#46039f\"],[0.2222222222222222,\"#7201a8\"],[0.3333333333333333,\"#9c179e\"],[0.4444444444444444,\"#bd3786\"],[0.5555555555555556,\"#d8576b\"],[0.6666666666666666,\"#ed7953\"],[0.7777777777777778,\"#fb9f3a\"],[0.8888888888888888,\"#fdca26\"],[1.0,\"#f0f921\"]],\"type\":\"histogram2dcontour\"}],\"histogram2d\":[{\"colorbar\":{\"outlinewidth\":0,\"ticks\":\"\"},\"colorscale\":[[0.0,\"#0d0887\"],[0.1111111111111111,\"#46039f\"],[0.2222222222222222,\"#7201a8\"],[0.3333333333333333,\"#9c179e\"],[0.4444444444444444,\"#bd3786\"],[0.5555555555555556,\"#d8576b\"],[0.6666666666666666,\"#ed7953\"],[0.7777777777777778,\"#fb9f3a\"],[0.8888888888888888,\"#fdca26\"],[1.0,\"#f0f921\"]],\"type\":\"histogram2d\"}],\"histogram\":[{\"marker\":{\"pattern\":{\"fillmode\":\"overlay\",\"size\":10,\"solidity\":0.2}},\"type\":\"histogram\"}],\"mesh3d\":[{\"colorbar\":{\"outlinewidth\":0,\"ticks\":\"\"},\"type\":\"mesh3d\"}],\"parcoords\":[{\"line\":{\"colorbar\":{\"outlinewidth\":0,\"ticks\":\"\"}},\"type\":\"parcoords\"}],\"pie\":[{\"automargin\":true,\"type\":\"pie\"}],\"scatter3d\":[{\"line\":{\"colorbar\":{\"outlinewidth\":0,\"ticks\":\"\"}},\"marker\":{\"colorbar\":{\"outlinewidth\":0,\"ticks\":\"\"}},\"type\":\"scatter3d\"}],\"scattercarpet\":[{\"marker\":{\"colorbar\":{\"outlinewidth\":0,\"ticks\":\"\"}},\"type\":\"scattercarpet\"}],\"scattergeo\":[{\"marker\":{\"colorbar\":{\"outlinewidth\":0,\"ticks\":\"\"}},\"type\":\"scattergeo\"}],\"scattergl\":[{\"marker\":{\"line\":{\"color\":\"#283442\"}},\"type\":\"scattergl\"}],\"scattermapbox\":[{\"marker\":{\"colorbar\":{\"outlinewidth\":0,\"ticks\":\"\"}},\"type\":\"scattermapbox\"}],\"scatterpolargl\":[{\"marker\":{\"colorbar\":{\"outlinewidth\":0,\"ticks\":\"\"}},\"type\":\"scatterpolargl\"}],\"scatterpolar\":[{\"marker\":{\"colorbar\":{\"outlinewidth\":0,\"ticks\":\"\"}},\"type\":\"scatterpolar\"}],\"scatter\":[{\"marker\":{\"line\":{\"color\":\"#283442\"}},\"type\":\"scatter\"}],\"scatterternary\":[{\"marker\":{\"colorbar\":{\"outlinewidth\":0,\"ticks\":\"\"}},\"type\":\"scatterternary\"}],\"surface\":[{\"colorbar\":{\"outlinewidth\":0,\"ticks\":\"\"},\"colorscale\":[[0.0,\"#0d0887\"],[0.1111111111111111,\"#46039f\"],[0.2222222222222222,\"#7201a8\"],[0.3333333333333333,\"#9c179e\"],[0.4444444444444444,\"#bd3786\"],[0.5555555555555556,\"#d8576b\"],[0.6666666666666666,\"#ed7953\"],[0.7777777777777778,\"#fb9f3a\"],[0.8888888888888888,\"#fdca26\"],[1.0,\"#f0f921\"]],\"type\":\"surface\"}],\"table\":[{\"cells\":{\"fill\":{\"color\":\"#506784\"},\"line\":{\"color\":\"rgb(17,17,17)\"}},\"header\":{\"fill\":{\"color\":\"#2a3f5f\"},\"line\":{\"color\":\"rgb(17,17,17)\"}},\"type\":\"table\"}]},\"layout\":{\"annotationdefaults\":{\"arrowcolor\":\"#f2f5fa\",\"arrowhead\":0,\"arrowwidth\":1},\"autotypenumbers\":\"strict\",\"coloraxis\":{\"colorbar\":{\"outlinewidth\":0,\"ticks\":\"\"}},\"colorscale\":{\"diverging\":[[0,\"#8e0152\"],[0.1,\"#c51b7d\"],[0.2,\"#de77ae\"],[0.3,\"#f1b6da\"],[0.4,\"#fde0ef\"],[0.5,\"#f7f7f7\"],[0.6,\"#e6f5d0\"],[0.7,\"#b8e186\"],[0.8,\"#7fbc41\"],[0.9,\"#4d9221\"],[1,\"#276419\"]],\"sequential\":[[0.0,\"#0d0887\"],[0.1111111111111111,\"#46039f\"],[0.2222222222222222,\"#7201a8\"],[0.3333333333333333,\"#9c179e\"],[0.4444444444444444,\"#bd3786\"],[0.5555555555555556,\"#d8576b\"],[0.6666666666666666,\"#ed7953\"],[0.7777777777777778,\"#fb9f3a\"],[0.8888888888888888,\"#fdca26\"],[1.0,\"#f0f921\"]],\"sequentialminus\":[[0.0,\"#0d0887\"],[0.1111111111111111,\"#46039f\"],[0.2222222222222222,\"#7201a8\"],[0.3333333333333333,\"#9c179e\"],[0.4444444444444444,\"#bd3786\"],[0.5555555555555556,\"#d8576b\"],[0.6666666666666666,\"#ed7953\"],[0.7777777777777778,\"#fb9f3a\"],[0.8888888888888888,\"#fdca26\"],[1.0,\"#f0f921\"]]},\"colorway\":[\"#636efa\",\"#EF553B\",\"#00cc96\",\"#ab63fa\",\"#FFA15A\",\"#19d3f3\",\"#FF6692\",\"#B6E880\",\"#FF97FF\",\"#FECB52\"],\"font\":{\"color\":\"#f2f5fa\"},\"geo\":{\"bgcolor\":\"rgb(17,17,17)\",\"lakecolor\":\"rgb(17,17,17)\",\"landcolor\":\"rgb(17,17,17)\",\"showlakes\":true,\"showland\":true,\"subunitcolor\":\"#506784\"},\"hoverlabel\":{\"align\":\"left\"},\"hovermode\":\"closest\",\"mapbox\":{\"style\":\"dark\"},\"paper_bgcolor\":\"rgb(17,17,17)\",\"plot_bgcolor\":\"rgb(17,17,17)\",\"polar\":{\"angularaxis\":{\"gridcolor\":\"#506784\",\"linecolor\":\"#506784\",\"ticks\":\"\"},\"bgcolor\":\"rgb(17,17,17)\",\"radialaxis\":{\"gridcolor\":\"#506784\",\"linecolor\":\"#506784\",\"ticks\":\"\"}},\"scene\":{\"xaxis\":{\"backgroundcolor\":\"rgb(17,17,17)\",\"gridcolor\":\"#506784\",\"gridwidth\":2,\"linecolor\":\"#506784\",\"showbackground\":true,\"ticks\":\"\",\"zerolinecolor\":\"#C8D4E3\"},\"yaxis\":{\"backgroundcolor\":\"rgb(17,17,17)\",\"gridcolor\":\"#506784\",\"gridwidth\":2,\"linecolor\":\"#506784\",\"showbackground\":true,\"ticks\":\"\",\"zerolinecolor\":\"#C8D4E3\"},\"zaxis\":{\"backgroundcolor\":\"rgb(17,17,17)\",\"gridcolor\":\"#506784\",\"gridwidth\":2,\"linecolor\":\"#506784\",\"showbackground\":true,\"ticks\":\"\",\"zerolinecolor\":\"#C8D4E3\"}},\"shapedefaults\":{\"line\":{\"color\":\"#f2f5fa\"}},\"sliderdefaults\":{\"bgcolor\":\"#C8D4E3\",\"bordercolor\":\"rgb(17,17,17)\",\"borderwidth\":1,\"tickwidth\":0},\"ternary\":{\"aaxis\":{\"gridcolor\":\"#506784\",\"linecolor\":\"#506784\",\"ticks\":\"\"},\"baxis\":{\"gridcolor\":\"#506784\",\"linecolor\":\"#506784\",\"ticks\":\"\"},\"bgcolor\":\"rgb(17,17,17)\",\"caxis\":{\"gridcolor\":\"#506784\",\"linecolor\":\"#506784\",\"ticks\":\"\"}},\"title\":{\"x\":0.05},\"updatemenudefaults\":{\"bgcolor\":\"#506784\",\"borderwidth\":0},\"xaxis\":{\"automargin\":true,\"gridcolor\":\"#283442\",\"linecolor\":\"#506784\",\"ticks\":\"\",\"title\":{\"standoff\":15},\"zerolinecolor\":\"#283442\",\"zerolinewidth\":2},\"yaxis\":{\"automargin\":true,\"gridcolor\":\"#283442\",\"linecolor\":\"#506784\",\"ticks\":\"\",\"title\":{\"standoff\":15},\"zerolinecolor\":\"#283442\",\"zerolinewidth\":2}}},\"shapes\":[{\"fillcolor\":\"red\",\"layer\":\"below\",\"line\":{\"width\":0},\"opacity\":0.2,\"type\":\"rect\",\"x0\":0,\"x1\":5.6,\"xref\":\"x\",\"y0\":0,\"y1\":1,\"yref\":\"y domain\"},{\"fillcolor\":\"yellow\",\"layer\":\"below\",\"line\":{\"width\":0},\"opacity\":0.2,\"type\":\"rect\",\"x0\":5.7,\"x1\":9.6,\"xref\":\"x\",\"y0\":0,\"y1\":1,\"yref\":\"y domain\"},{\"fillcolor\":\"orange\",\"layer\":\"below\",\"line\":{\"width\":0},\"opacity\":0.2,\"type\":\"rect\",\"x0\":9.7,\"x1\":14.6,\"xref\":\"x\",\"y0\":0,\"y1\":1,\"yref\":\"y domain\"},{\"fillcolor\":\"green\",\"layer\":\"below\",\"line\":{\"width\":0},\"opacity\":0.2,\"type\":\"rect\",\"x0\":14.7,\"x1\":20,\"xref\":\"x\",\"y0\":0,\"y1\":1,\"yref\":\"y domain\"}],\"annotations\":[{\"font\":{\"size\":12},\"showarrow\":false,\"text\":\"PP1\",\"x\":2.5,\"y\":44.1},{\"font\":{\"size\":12},\"showarrow\":false,\"text\":\"PP2\",\"x\":7.5,\"y\":31.5},{\"font\":{\"size\":12},\"showarrow\":false,\"text\":\"PP3\",\"x\":12,\"y\":33.300000000000004},{\"font\":{\"size\":12},\"showarrow\":false,\"text\":\"PP4\",\"x\":17,\"y\":54.0},{\"align\":\"left\",\"bgcolor\":\"lightgray\",\"bordercolor\":\"black\",\"borderwidth\":1,\"font\":{\"color\":\"blue\",\"size\":10.8},\"showarrow\":false,\"text\":\"Winner Avg: PP1 49.0 runs \\u002f 2.0 wkts, PP2 35.0 runs \\u002f 1.0 wkts, PP3 37.0 runs \\u002f 0.0 wkts, PP4 42.0 runs \\u002f 5.0 wkts\\nLoser Avg: PP1 48.0 runs \\u002f 2.0 wkts, PP2 28.0 runs \\u002f 0.0 wkts, PP3 26.0 runs \\u002f 2.0 wkts, PP4 60.0 runs \\u002f 1.0 wkts\",\"x\":0.5,\"xref\":\"paper\",\"y\":0.95,\"yref\":\"paper\"}],\"legend\":{\"x\":0.02,\"y\":-0.2,\"orientation\":\"h\",\"bgcolor\":\"rgba(0,0,0,0.5)\"},\"title\":{\"text\":\"Multiple Matches - Runs Progression\"},\"xaxis\":{\"title\":{\"text\":\"Overs\"}},\"yaxis\":{\"title\":{\"text\":\"Runs\"}},\"width\":1100,\"height\":600},                        {\"responsive\": true}                    ).then(function(){\n",
       "                            \n",
       "var gd = document.getElementById('8a08789c-94c5-4596-85af-9f569e6b125d');\n",
       "var x = new MutationObserver(function (mutations, observer) {{\n",
       "        var display = window.getComputedStyle(gd).display;\n",
       "        if (!display || display === 'none') {{\n",
       "            console.log([gd, 'removed!']);\n",
       "            Plotly.purge(gd);\n",
       "            observer.disconnect();\n",
       "        }}\n",
       "}});\n",
       "\n",
       "// Listen for the removal of the full notebook cells\n",
       "var notebookContainer = gd.closest('#notebook-container');\n",
       "if (notebookContainer) {{\n",
       "    x.observe(notebookContainer, {childList: true});\n",
       "}}\n",
       "\n",
       "// Listen for the clearing of the current output cell\n",
       "var outputEl = gd.closest('.output');\n",
       "if (outputEl) {{\n",
       "    x.observe(outputEl, {childList: true});\n",
       "}}\n",
       "\n",
       "                        })                };                });            </script>        </div>"
      ]
     },
     "metadata": {},
     "output_type": "display_data"
    },
    {
     "data": {
      "text/html": [
       "<div>\n",
       "<style scoped>\n",
       "    .dataframe tbody tr th:only-of-type {\n",
       "        vertical-align: middle;\n",
       "    }\n",
       "\n",
       "    .dataframe tbody tr th {\n",
       "        vertical-align: top;\n",
       "    }\n",
       "\n",
       "    .dataframe thead th {\n",
       "        text-align: right;\n",
       "    }\n",
       "</style>\n",
       "<table border=\"1\" class=\"dataframe\">\n",
       "  <thead>\n",
       "    <tr style=\"text-align: right;\">\n",
       "      <th></th>\n",
       "      <th>Match_ID</th>\n",
       "      <th>Team</th>\n",
       "      <th>Inning Type</th>\n",
       "      <th>PP1_Runs</th>\n",
       "      <th>PP1_Wickets</th>\n",
       "      <th>PP2_Runs</th>\n",
       "      <th>PP2_Wickets</th>\n",
       "      <th>PP3_Runs</th>\n",
       "      <th>PP3_Wickets</th>\n",
       "      <th>PP4_Runs</th>\n",
       "      <th>PP4_Wickets</th>\n",
       "      <th>Total_Runs</th>\n",
       "      <th>Total_Wickets</th>\n",
       "      <th>Winner</th>\n",
       "    </tr>\n",
       "  </thead>\n",
       "  <tbody>\n",
       "    <tr>\n",
       "      <th>0</th>\n",
       "      <td>1410487</td>\n",
       "      <td>Worcestershire</td>\n",
       "      <td>Batting First</td>\n",
       "      <td>49</td>\n",
       "      <td>2</td>\n",
       "      <td>35</td>\n",
       "      <td>1</td>\n",
       "      <td>37</td>\n",
       "      <td>0</td>\n",
       "      <td>42</td>\n",
       "      <td>5</td>\n",
       "      <td>169</td>\n",
       "      <td>8</td>\n",
       "      <td>Worcestershire</td>\n",
       "    </tr>\n",
       "    <tr>\n",
       "      <th>1</th>\n",
       "      <td>1410487</td>\n",
       "      <td>Derbyshire</td>\n",
       "      <td>Chasing</td>\n",
       "      <td>48</td>\n",
       "      <td>2</td>\n",
       "      <td>28</td>\n",
       "      <td>0</td>\n",
       "      <td>26</td>\n",
       "      <td>2</td>\n",
       "      <td>60</td>\n",
       "      <td>1</td>\n",
       "      <td>168</td>\n",
       "      <td>5</td>\n",
       "      <td>Worcestershire</td>\n",
       "    </tr>\n",
       "  </tbody>\n",
       "</table>\n",
       "</div>"
      ],
      "text/plain": [
       "   Match_ID            Team    Inning Type  PP1_Runs  PP1_Wickets  PP2_Runs  PP2_Wickets  PP3_Runs  PP3_Wickets  PP4_Runs  PP4_Wickets  Total_Runs  Total_Wickets          Winner\n",
       "0   1410487  Worcestershire  Batting First        49            2        35            1        37            0        42            5         169              8  Worcestershire\n",
       "1   1410487      Derbyshire        Chasing        48            2        28            0        26            2        60            1         168              5  Worcestershire"
      ]
     },
     "execution_count": 113,
     "metadata": {},
     "output_type": "execute_result"
    }
   ],
   "source": [
    "#[1410463,1410480,1410487]\n",
    "match_ids =[1410487]\n",
    "\n",
    "analyze_phase_patterns(df, match_ids)\n"
   ]
  },
  {
   "cell_type": "code",
   "execution_count": null,
   "id": "d79b6754-a2c2-41e5-929e-54f133fe250b",
   "metadata": {},
   "outputs": [],
   "source": []
  },
  {
   "cell_type": "code",
   "execution_count": null,
   "id": "892adc59-37d7-46c6-81dd-28388bd712f9",
   "metadata": {},
   "outputs": [],
   "source": []
  },
  {
   "cell_type": "code",
   "execution_count": null,
   "id": "91ccbb17-122d-4a7f-b850-ab5bd0b6bbc4",
   "metadata": {},
   "outputs": [],
   "source": []
  },
  {
   "cell_type": "code",
   "execution_count": null,
   "id": "87f47cf5-f705-4cbf-960d-e8737774c5ff",
   "metadata": {},
   "outputs": [],
   "source": []
  },
  {
   "cell_type": "code",
   "execution_count": 11,
   "id": "b5388047-6d29-403b-bdad-16840b42453b",
   "metadata": {},
   "outputs": [],
   "source": [
    "import pandas as pd\n",
    "import plotly.graph_objects as go\n",
    "\n",
    "def analyze_phase_patterns_with_dataframe(df, team_name):\n",
    "    # First get all unique match IDs\n",
    "    all_match_ids = df['match_id'].unique()\n",
    "    \n",
    "    # Filter to keep only matches where team_name participated\n",
    "    teams_match_ids = []\n",
    "    \n",
    "    for match_id in all_match_ids:\n",
    "        match_data = df[df['match_id'] == match_id]\n",
    "        batting_teams = match_data['batting_team'].unique()\n",
    "        if team_name in batting_teams:\n",
    "            teams_match_ids.append(match_id)\n",
    "    \n",
    "    if not teams_match_ids:\n",
    "        print(f\"No matches found for team: {team_name}\")\n",
    "        return None\n",
    "        \n",
    "    # Continue with the rest of the function using these match IDs\n",
    "    df = df[df.match_id.isin(teams_match_ids)]\n",
    "    \n",
    "    all_phase_data = []\n",
    "\n",
    "    for match_id in teams_match_ids:\n",
    "        df_match = df[df.match_id == match_id]\n",
    "        df1 = df_match[df_match.inning == 1].reset_index(drop=True)\n",
    "        df2 = df_match[df_match.inning == 2].reset_index(drop=True)\n",
    "\n",
    "        # Skip incomplete matches\n",
    "        if df1.empty or df2.empty:\n",
    "            continue\n",
    "\n",
    "        df1['cum_runs'] = df1['total_runs'].cumsum()\n",
    "        df2['cum_runs'] = df2['total_runs'].cumsum()\n",
    "\n",
    "        df1['over_ball'] = df1['over'] + df1['ball'] / 10\n",
    "        df2['over_ball'] = df2['over'] + df2['ball'] / 10\n",
    "\n",
    "        df1['wicket'] = df1['is_wicket'].cumsum()\n",
    "        df2['wicket'] = df2['is_wicket'].cumsum()\n",
    "\n",
    "        def get_stats(df, start_over, end_over):\n",
    "            df_filtered = df[(df['over_ball'] >= start_over) & (df['over_ball'] <= end_over)]\n",
    "            if df_filtered.empty:\n",
    "                return 0, 0\n",
    "            # Fix: Added [0] to access first element in the series\n",
    "            return df_filtered['cum_runs'].iloc[-1] - df_filtered['cum_runs'].iloc[0], df_filtered['wicket'].iloc[-1] - df_filtered['wicket'].iloc[0]\n",
    "\n",
    "        # Compute stats for each phase\n",
    "        pp1_runs1, pp1_wickets1 = get_stats(df1, 0, 5.6)\n",
    "        pp1_runs2, pp1_wickets2 = get_stats(df2, 0, 5.6)\n",
    "\n",
    "        pp2_runs1, pp2_wickets1 = get_stats(df1, 5.7, 9.6)\n",
    "        pp2_runs2, pp2_wickets2 = get_stats(df2, 5.7, 9.6)\n",
    "\n",
    "        pp3_runs1, pp3_wickets1 = get_stats(df1, 9.7, 14.6)\n",
    "        pp3_runs2, pp3_wickets2 = get_stats(df2, 9.7, 14.6)\n",
    "\n",
    "        pp4_runs1, pp4_wickets1 = get_stats(df1, 14.7, df1['over_ball'].max())\n",
    "        pp4_runs2, pp4_wickets2 = get_stats(df2, 14.7, df2['over_ball'].max())\n",
    "\n",
    "        total_runs1, total_wickets1 = get_stats(df1, 0, df1['over_ball'].max())\n",
    "        total_runs2, total_wickets2 = get_stats(df2, 0, df2['over_ball'].max())\n",
    "\n",
    "        # Fix: Added [0] to access first team name in the series\n",
    "        team1 = df1.batting_team.iloc[0]\n",
    "        team2 = df2.batting_team.iloc[0]\n",
    "        target = total_runs1 + 1  \n",
    "        winner = team2 if total_runs2 >= target else team1\n",
    "        loser = team1 if winner == team2 else team2\n",
    "\n",
    "        # Append phase data for both innings\n",
    "        all_phase_data.append([match_id, team1, \"Batting First\", pp1_runs1, pp1_wickets1, pp2_runs1, pp2_wickets1, pp3_runs1, pp3_wickets1, pp4_runs1, pp4_wickets1, total_runs1, total_wickets1, winner, loser])\n",
    "        all_phase_data.append([match_id, team2, \"Chasing\", pp1_runs2, pp1_wickets2, pp2_runs2, pp2_wickets2, pp3_runs2, pp3_wickets2, pp4_runs2, pp4_wickets2, total_runs2, total_wickets2, winner, loser])\n",
    "\n",
    "    # Create a DataFrame with all the phase data\n",
    "    phase_df = pd.DataFrame(all_phase_data, columns=['Match_ID', 'Team', 'Inning Type', 'PP1_Runs', 'PP1_Wickets', 'PP2_Runs', 'PP2_Wickets', 'PP3_Runs', 'PP3_Wickets', 'PP4_Runs', 'PP4_Wickets', 'Total_Runs', 'Total_Wickets', 'Winner', 'Loser'])\n",
    "    \n",
    "    # Create a summary DataFrame with focus on match-by-match analysis\n",
    "    match_summary = []\n",
    "    for match_id in phase_df['Match_ID'].unique():\n",
    "        match_data = phase_df[phase_df['Match_ID'] == match_id]\n",
    "        \n",
    "        if len(match_data) != 2:\n",
    "            continue  # Skip incomplete matches\n",
    "            \n",
    "        team1_data = match_data.iloc[0]\n",
    "        team2_data = match_data.iloc[1]\n",
    "        \n",
    "        match_summary.append({\n",
    "            'Match_ID': match_id,\n",
    "            'Team1': team1_data['Team'],\n",
    "            'Team2': team2_data['Team'],\n",
    "            'Team1_PP1_Runs': team1_data['PP1_Runs'],\n",
    "            'Team1_PP1_Wickets': team1_data['PP1_Wickets'],\n",
    "            'Team1_PP2_Runs': team1_data['PP2_Runs'],\n",
    "            'Team1_PP2_Wickets': team1_data['PP2_Wickets'],\n",
    "            'Team1_PP3_Runs': team1_data['PP3_Runs'],\n",
    "            'Team1_PP3_Wickets': team1_data['PP3_Wickets'],\n",
    "            'Team1_PP4_Runs': team1_data['PP4_Runs'],\n",
    "            'Team1_PP4_Wickets': team1_data['PP4_Wickets'],\n",
    "            'Team1_Total': team1_data['Total_Runs'],\n",
    "            \n",
    "            'Team2_PP1_Runs': team2_data['PP1_Runs'],\n",
    "            'Team2_PP1_Wickets': team2_data['PP1_Wickets'],\n",
    "            'Team2_PP2_Runs': team2_data['PP2_Runs'],\n",
    "            'Team2_PP2_Wickets': team2_data['PP2_Wickets'],\n",
    "            'Team2_PP3_Runs': team2_data['PP3_Runs'],\n",
    "            'Team2_PP3_Wickets': team2_data['PP3_Wickets'],\n",
    "            'Team2_PP4_Runs': team2_data['PP4_Runs'],\n",
    "            'Team2_PP4_Wickets': team2_data['PP4_Wickets'],\n",
    "            'Team2_Total': team2_data['Total_Runs'],\n",
    "            \n",
    "            'Winner': team1_data['Winner'],\n",
    "            'Loser': team1_data['Loser']\n",
    "        })\n",
    "    \n",
    "    match_summary_df = pd.DataFrame(match_summary)\n",
    "    \n",
    "    # Highlight matches where the selected team won\n",
    "    match_summary_df['Selected_Team_Won'] = match_summary_df['Winner'] == team_name\n",
    "    \n",
    "    return {\n",
    "        'detailed': phase_df,               # Detailed innings-by-innings DataFrame\n",
    "        'summary': match_summary_df         # Match-by-match summary DataFrame\n",
    "    }\n",
    "\n",
    "# Example usage:\n",
    "# result = analyze_phase_patterns_with_dataframe(df, \"Chennai Super Kings\")\n",
    "# \n",
    "# # Display detailed DataFrame with all innings\n",
    "# print(result['detailed'])\n",
    "# \n",
    "# # Display match summary DataFrame\n",
    "# print(result['summary'])\n"
   ]
  },
  {
   "cell_type": "code",
   "execution_count": 12,
   "id": "93c410cc-fe27-4425-9de1-c502aa9be8da",
   "metadata": {},
   "outputs": [
    {
     "data": {
      "text/html": [
       "<div>\n",
       "<style scoped>\n",
       "    .dataframe tbody tr th:only-of-type {\n",
       "        vertical-align: middle;\n",
       "    }\n",
       "\n",
       "    .dataframe tbody tr th {\n",
       "        vertical-align: top;\n",
       "    }\n",
       "\n",
       "    .dataframe thead th {\n",
       "        text-align: right;\n",
       "    }\n",
       "</style>\n",
       "<table border=\"1\" class=\"dataframe\">\n",
       "  <thead>\n",
       "    <tr style=\"text-align: right;\">\n",
       "      <th></th>\n",
       "      <th>Match_ID</th>\n",
       "      <th>Team</th>\n",
       "      <th>Inning Type</th>\n",
       "      <th>PP1_Runs</th>\n",
       "      <th>PP1_Wickets</th>\n",
       "      <th>PP2_Runs</th>\n",
       "      <th>PP2_Wickets</th>\n",
       "      <th>PP3_Runs</th>\n",
       "      <th>PP3_Wickets</th>\n",
       "      <th>PP4_Runs</th>\n",
       "      <th>PP4_Wickets</th>\n",
       "      <th>Total_Runs</th>\n",
       "      <th>Total_Wickets</th>\n",
       "      <th>Winner</th>\n",
       "      <th>Loser</th>\n",
       "    </tr>\n",
       "  </thead>\n",
       "  <tbody>\n",
       "    <tr>\n",
       "      <th>286</th>\n",
       "      <td>1410458</td>\n",
       "      <td>Surrey</td>\n",
       "      <td>Batting First</td>\n",
       "      <td>87</td>\n",
       "      <td>5</td>\n",
       "      <td>102</td>\n",
       "      <td>5</td>\n",
       "      <td>56</td>\n",
       "      <td>2</td>\n",
       "      <td>0</td>\n",
       "      <td>0</td>\n",
       "      <td>102</td>\n",
       "      <td>5</td>\n",
       "      <td>Surrey</td>\n",
       "      <td>Kent</td>\n",
       "    </tr>\n",
       "    <tr>\n",
       "      <th>287</th>\n",
       "      <td>1410458</td>\n",
       "      <td>Kent</td>\n",
       "      <td>Chasing</td>\n",
       "      <td>81</td>\n",
       "      <td>2</td>\n",
       "      <td>30</td>\n",
       "      <td>1</td>\n",
       "      <td>0</td>\n",
       "      <td>0</td>\n",
       "      <td>0</td>\n",
       "      <td>0</td>\n",
       "      <td>81</td>\n",
       "      <td>2</td>\n",
       "      <td>Surrey</td>\n",
       "      <td>Kent</td>\n",
       "    </tr>\n",
       "    <tr>\n",
       "      <th>288</th>\n",
       "      <td>1410461</td>\n",
       "      <td>Essex</td>\n",
       "      <td>Batting First</td>\n",
       "      <td>98</td>\n",
       "      <td>1</td>\n",
       "      <td>83</td>\n",
       "      <td>2</td>\n",
       "      <td>166</td>\n",
       "      <td>3</td>\n",
       "      <td>79</td>\n",
       "      <td>1</td>\n",
       "      <td>186</td>\n",
       "      <td>3</td>\n",
       "      <td>Essex</td>\n",
       "      <td>Kent</td>\n",
       "    </tr>\n",
       "    <tr>\n",
       "      <th>289</th>\n",
       "      <td>1410461</td>\n",
       "      <td>Kent</td>\n",
       "      <td>Chasing</td>\n",
       "      <td>164</td>\n",
       "      <td>5</td>\n",
       "      <td>37</td>\n",
       "      <td>1</td>\n",
       "      <td>152</td>\n",
       "      <td>5</td>\n",
       "      <td>63</td>\n",
       "      <td>3</td>\n",
       "      <td>164</td>\n",
       "      <td>5</td>\n",
       "      <td>Essex</td>\n",
       "      <td>Kent</td>\n",
       "    </tr>\n",
       "    <tr>\n",
       "      <th>290</th>\n",
       "      <td>1410468</td>\n",
       "      <td>Sussex</td>\n",
       "      <td>Batting First</td>\n",
       "      <td>106</td>\n",
       "      <td>4</td>\n",
       "      <td>58</td>\n",
       "      <td>2</td>\n",
       "      <td>136</td>\n",
       "      <td>1</td>\n",
       "      <td>135</td>\n",
       "      <td>2</td>\n",
       "      <td>202</td>\n",
       "      <td>4</td>\n",
       "      <td>Sussex</td>\n",
       "      <td>Kent</td>\n",
       "    </tr>\n",
       "    <tr>\n",
       "      <th>291</th>\n",
       "      <td>1410468</td>\n",
       "      <td>Kent</td>\n",
       "      <td>Chasing</td>\n",
       "      <td>111</td>\n",
       "      <td>10</td>\n",
       "      <td>79</td>\n",
       "      <td>7</td>\n",
       "      <td>54</td>\n",
       "      <td>7</td>\n",
       "      <td>6</td>\n",
       "      <td>1</td>\n",
       "      <td>111</td>\n",
       "      <td>10</td>\n",
       "      <td>Sussex</td>\n",
       "      <td>Kent</td>\n",
       "    </tr>\n",
       "    <tr>\n",
       "      <th>292</th>\n",
       "      <td>1410481</td>\n",
       "      <td>Glamorgan</td>\n",
       "      <td>Batting First</td>\n",
       "      <td>77</td>\n",
       "      <td>3</td>\n",
       "      <td>107</td>\n",
       "      <td>5</td>\n",
       "      <td>106</td>\n",
       "      <td>5</td>\n",
       "      <td>0</td>\n",
       "      <td>0</td>\n",
       "      <td>141</td>\n",
       "      <td>6</td>\n",
       "      <td>Glamorgan</td>\n",
       "      <td>Kent</td>\n",
       "    </tr>\n",
       "    <tr>\n",
       "      <th>293</th>\n",
       "      <td>1410481</td>\n",
       "      <td>Kent</td>\n",
       "      <td>Chasing</td>\n",
       "      <td>126</td>\n",
       "      <td>5</td>\n",
       "      <td>123</td>\n",
       "      <td>5</td>\n",
       "      <td>40</td>\n",
       "      <td>1</td>\n",
       "      <td>0</td>\n",
       "      <td>0</td>\n",
       "      <td>126</td>\n",
       "      <td>5</td>\n",
       "      <td>Glamorgan</td>\n",
       "      <td>Kent</td>\n",
       "    </tr>\n",
       "    <tr>\n",
       "      <th>294</th>\n",
       "      <td>1410491</td>\n",
       "      <td>Kent</td>\n",
       "      <td>Batting First</td>\n",
       "      <td>96</td>\n",
       "      <td>0</td>\n",
       "      <td>163</td>\n",
       "      <td>5</td>\n",
       "      <td>90</td>\n",
       "      <td>5</td>\n",
       "      <td>163</td>\n",
       "      <td>3</td>\n",
       "      <td>216</td>\n",
       "      <td>5</td>\n",
       "      <td>Kent</td>\n",
       "      <td>Surrey</td>\n",
       "    </tr>\n",
       "    <tr>\n",
       "      <th>295</th>\n",
       "      <td>1410491</td>\n",
       "      <td>Surrey</td>\n",
       "      <td>Chasing</td>\n",
       "      <td>71</td>\n",
       "      <td>2</td>\n",
       "      <td>127</td>\n",
       "      <td>9</td>\n",
       "      <td>57</td>\n",
       "      <td>8</td>\n",
       "      <td>6</td>\n",
       "      <td>2</td>\n",
       "      <td>131</td>\n",
       "      <td>10</td>\n",
       "      <td>Kent</td>\n",
       "      <td>Surrey</td>\n",
       "    </tr>\n",
       "    <tr>\n",
       "      <th>296</th>\n",
       "      <td>1460756</td>\n",
       "      <td>Kent</td>\n",
       "      <td>Batting First</td>\n",
       "      <td>177</td>\n",
       "      <td>3</td>\n",
       "      <td>53</td>\n",
       "      <td>0</td>\n",
       "      <td>109</td>\n",
       "      <td>3</td>\n",
       "      <td>192</td>\n",
       "      <td>3</td>\n",
       "      <td>207</td>\n",
       "      <td>3</td>\n",
       "      <td>Kent</td>\n",
       "      <td>Gloucestershire</td>\n",
       "    </tr>\n",
       "    <tr>\n",
       "      <th>297</th>\n",
       "      <td>1460756</td>\n",
       "      <td>Gloucestershire</td>\n",
       "      <td>Chasing</td>\n",
       "      <td>171</td>\n",
       "      <td>6</td>\n",
       "      <td>30</td>\n",
       "      <td>2</td>\n",
       "      <td>146</td>\n",
       "      <td>5</td>\n",
       "      <td>140</td>\n",
       "      <td>4</td>\n",
       "      <td>204</td>\n",
       "      <td>7</td>\n",
       "      <td>Kent</td>\n",
       "      <td>Gloucestershire</td>\n",
       "    </tr>\n",
       "    <tr>\n",
       "      <th>298</th>\n",
       "      <td>1460779</td>\n",
       "      <td>Surrey</td>\n",
       "      <td>Batting First</td>\n",
       "      <td>125</td>\n",
       "      <td>4</td>\n",
       "      <td>70</td>\n",
       "      <td>1</td>\n",
       "      <td>111</td>\n",
       "      <td>6</td>\n",
       "      <td>105</td>\n",
       "      <td>6</td>\n",
       "      <td>193</td>\n",
       "      <td>7</td>\n",
       "      <td>Surrey</td>\n",
       "      <td>Kent</td>\n",
       "    </tr>\n",
       "    <tr>\n",
       "      <th>299</th>\n",
       "      <td>1460779</td>\n",
       "      <td>Kent</td>\n",
       "      <td>Chasing</td>\n",
       "      <td>140</td>\n",
       "      <td>8</td>\n",
       "      <td>43</td>\n",
       "      <td>1</td>\n",
       "      <td>115</td>\n",
       "      <td>7</td>\n",
       "      <td>41</td>\n",
       "      <td>5</td>\n",
       "      <td>151</td>\n",
       "      <td>9</td>\n",
       "      <td>Surrey</td>\n",
       "      <td>Kent</td>\n",
       "    </tr>\n",
       "  </tbody>\n",
       "</table>\n",
       "</div>"
      ],
      "text/plain": [
       "     Match_ID             Team    Inning Type  PP1_Runs  PP1_Wickets  PP2_Runs  PP2_Wickets  PP3_Runs  PP3_Wickets  PP4_Runs  PP4_Wickets  Total_Runs  Total_Wickets     Winner            Loser\n",
       "286   1410458           Surrey  Batting First        87            5       102            5        56            2         0            0         102              5     Surrey             Kent\n",
       "287   1410458             Kent        Chasing        81            2        30            1         0            0         0            0          81              2     Surrey             Kent\n",
       "288   1410461            Essex  Batting First        98            1        83            2       166            3        79            1         186              3      Essex             Kent\n",
       "289   1410461             Kent        Chasing       164            5        37            1       152            5        63            3         164              5      Essex             Kent\n",
       "290   1410468           Sussex  Batting First       106            4        58            2       136            1       135            2         202              4     Sussex             Kent\n",
       "291   1410468             Kent        Chasing       111           10        79            7        54            7         6            1         111             10     Sussex             Kent\n",
       "292   1410481        Glamorgan  Batting First        77            3       107            5       106            5         0            0         141              6  Glamorgan             Kent\n",
       "293   1410481             Kent        Chasing       126            5       123            5        40            1         0            0         126              5  Glamorgan             Kent\n",
       "294   1410491             Kent  Batting First        96            0       163            5        90            5       163            3         216              5       Kent           Surrey\n",
       "295   1410491           Surrey        Chasing        71            2       127            9        57            8         6            2         131             10       Kent           Surrey\n",
       "296   1460756             Kent  Batting First       177            3        53            0       109            3       192            3         207              3       Kent  Gloucestershire\n",
       "297   1460756  Gloucestershire        Chasing       171            6        30            2       146            5       140            4         204              7       Kent  Gloucestershire\n",
       "298   1460779           Surrey  Batting First       125            4        70            1       111            6       105            6         193              7     Surrey             Kent\n",
       "299   1460779             Kent        Chasing       140            8        43            1       115            7        41            5         151              9     Surrey             Kent"
      ]
     },
     "execution_count": 12,
     "metadata": {},
     "output_type": "execute_result"
    }
   ],
   "source": [
    "result = analyze_phase_patterns_with_dataframe(df, \"Kent\")\n",
    "result['detailed'].tail(14)"
   ]
  },
  {
   "cell_type": "code",
   "execution_count": null,
   "id": "62add3b5-f7a4-4a75-af79-4d2a1b79f723",
   "metadata": {},
   "outputs": [],
   "source": []
  },
  {
   "cell_type": "code",
   "execution_count": 13,
   "id": "c11839cd-d2fa-4436-bdfb-10c545779177",
   "metadata": {},
   "outputs": [],
   "source": [
    "import pandas as pd\n",
    "from IPython.display import display\n",
    "\n",
    "def analyze_phase_patterns_with_dataframe(df, team_name, venue_name):\n",
    "    # Get all unique match IDs\n",
    "    all_match_ids = df['match_id'].unique()\n",
    "    \n",
    "    # Filter matches for team + venue\n",
    "    teams_match_ids = []\n",
    "    for match_id in all_match_ids:\n",
    "        match_data = df[df['match_id'] == match_id]\n",
    "        if match_data.empty:\n",
    "            continue\n",
    "            \n",
    "        # Get first venue entry for the match\n",
    "        venue = match_data['venue'].iloc[0]\n",
    "        batting_teams = match_data['batting_team'].unique()\n",
    "        \n",
    "        if (team_name in batting_teams) and (venue == venue_name):\n",
    "            teams_match_ids.append(match_id)\n",
    "    \n",
    "    if not teams_match_ids:\n",
    "        print(f\"No matches found for {team_name} at {venue_name}\")\n",
    "        # Return empty DataFrames instead of None\n",
    "        return {\n",
    "            'detailed': pd.DataFrame(),\n",
    "            'summary': pd.DataFrame()\n",
    "        }\n",
    "    \n",
    "    # Filter dataframe for relevant matches\n",
    "    df = df[df.match_id.isin(teams_match_ids)]\n",
    "    \n",
    "    all_phase_data = []\n",
    "\n",
    "    for match_id in teams_match_ids:\n",
    "        df_match = df[df.match_id == match_id]\n",
    "        df1 = df_match[df_match.inning == 1].reset_index(drop=True)\n",
    "        df2 = df_match[df_match.inning == 2].reset_index(drop=True)\n",
    "\n",
    "        # Skip incomplete matches\n",
    "        if df1.empty or df2.empty:\n",
    "            continue\n",
    "\n",
    "        df1['cum_runs'] = df1['total_runs'].cumsum()\n",
    "        df2['cum_runs'] = df2['total_runs'].cumsum()\n",
    "\n",
    "        df1['over_ball'] = df1['over'] + df1['ball'] / 10\n",
    "        df2['over_ball'] = df2['over'] + df2['ball'] / 10\n",
    "\n",
    "        df1['wicket'] = df1['is_wicket'].cumsum()\n",
    "        df2['wicket'] = df2['is_wicket'].cumsum()\n",
    "\n",
    "        def get_stats(df, start_over, end_over):\n",
    "            df_filtered = df[(df['over_ball'] >= start_over) & (df['over_ball'] <= end_over)]\n",
    "            if df_filtered.empty:\n",
    "                return 0, 0\n",
    "            return df_filtered['cum_runs'].iloc[-1] - df_filtered['cum_runs'].iloc[0], df_filtered['wicket'].iloc[-1] - df_filtered['wicket'].iloc[0]\n",
    "\n",
    "        # Compute stats for each phase\n",
    "        pp1_runs1, pp1_wickets1 = get_stats(df1, 0, 5.6)\n",
    "        pp1_runs2, pp1_wickets2 = get_stats(df2, 0, 5.6)\n",
    "\n",
    "        pp2_runs1, pp2_wickets1 = get_stats(df1, 5.7, 9.6)\n",
    "        pp2_runs2, pp2_wickets2 = get_stats(df2, 5.7, 9.6)\n",
    "\n",
    "        pp3_runs1, pp3_wickets1 = get_stats(df1, 9.7, 14.6)\n",
    "        pp3_runs2, pp3_wickets2 = get_stats(df2, 9.7, 14.6)\n",
    "\n",
    "        pp4_runs1, pp4_wickets1 = get_stats(df1, 14.7, df1['over_ball'].max())\n",
    "        pp4_runs2, pp4_wickets2 = get_stats(df2, 14.7, df2['over_ball'].max())\n",
    "\n",
    "        total_runs1, total_wickets1 = get_stats(df1, 0, df1['over_ball'].max())\n",
    "        total_runs2, total_wickets2 = get_stats(df2, 0, df2['over_ball'].max())\n",
    "\n",
    "        team1 = df1.batting_team.iloc[0]\n",
    "        team2 = df2.batting_team.iloc[0]\n",
    "        target = total_runs1 + 1  \n",
    "        winner = team2 if total_runs2 >= target else team1\n",
    "        loser = team1 if winner == team2 else team2\n",
    "\n",
    "        # Append phase data for both innings\n",
    "        all_phase_data.append([match_id, team1, \"Batting First\", pp1_runs1, pp1_wickets1, pp2_runs1, pp2_wickets1, pp3_runs1, pp3_wickets1, pp4_runs1, pp4_wickets1, total_runs1, total_wickets1, winner, loser, venue_name])\n",
    "        all_phase_data.append([match_id, team2, \"Chasing\", pp1_runs2, pp1_wickets2, pp2_runs2, pp2_wickets2, pp3_runs2, pp3_wickets2, pp4_runs2, pp4_wickets2, total_runs2, total_wickets2, winner, loser, venue_name])\n",
    "\n",
    "    # Create a DataFrame with all the phase data\n",
    "    phase_df = pd.DataFrame(\n",
    "        all_phase_data, \n",
    "        columns=[\n",
    "            'Match_ID', 'Team', 'Inning Type', 'PP1_Runs', 'PP1_Wickets', 'PP2_Runs', 'PP2_Wickets',\n",
    "            'PP3_Runs', 'PP3_Wickets', 'PP4_Runs', 'PP4_Wickets', 'Total_Runs', 'Total_Wickets',\n",
    "            'Winner', 'Loser', 'Venue'\n",
    "        ]\n",
    "    )\n",
    "    \n",
    "    # Create a summary DataFrame with focus on match-by-match analysis\n",
    "    match_summary = []\n",
    "    for match_id in phase_df['Match_ID'].unique():\n",
    "        match_data = phase_df[phase_df['Match_ID'] == match_id]\n",
    "        \n",
    "        if len(match_data) != 2:\n",
    "            continue  # Skip incomplete matches\n",
    "            \n",
    "        team1_data = match_data.iloc[0]\n",
    "        team2_data = match_data.iloc[1]\n",
    "        \n",
    "        match_summary.append({\n",
    "            'Match_ID': match_id,\n",
    "            'Venue': venue_name,\n",
    "            'Team1': team1_data['Team'],\n",
    "            'Team2': team2_data['Team'],\n",
    "            'Team1_PP1_Runs': team1_data['PP1_Runs'],\n",
    "            'Team1_PP1_Wickets': team1_data['PP1_Wickets'],\n",
    "            'Team1_PP2_Runs': team1_data['PP2_Runs'],\n",
    "            'Team1_PP2_Wickets': team1_data['PP2_Wickets'],\n",
    "            'Team1_PP3_Runs': team1_data['PP3_Runs'],\n",
    "            'Team1_PP3_Wickets': team1_data['PP3_Wickets'],\n",
    "            'Team1_PP4_Runs': team1_data['PP4_Runs'],\n",
    "            'Team1_PP4_Wickets': team1_data['PP4_Wickets'],\n",
    "            'Team1_Total': team1_data['Total_Runs'],\n",
    "            \n",
    "            'Team2_PP1_Runs': team2_data['PP1_Runs'],\n",
    "            'Team2_PP1_Wickets': team2_data['PP1_Wickets'],\n",
    "            'Team2_PP2_Runs': team2_data['PP2_Runs'],\n",
    "            'Team2_PP2_Wickets': team2_data['PP2_Wickets'],\n",
    "            'Team2_PP3_Runs': team2_data['PP3_Runs'],\n",
    "            'Team2_PP3_Wickets': team2_data['PP3_Wickets'],\n",
    "            'Team2_PP4_Runs': team2_data['PP4_Runs'],\n",
    "            'Team2_PP4_Wickets': team2_data['PP4_Wickets'],\n",
    "            'Team2_Total': team2_data['Total_Runs'],\n",
    "            \n",
    "            'Winner': team1_data['Winner'],\n",
    "            'Loser': team1_data['Loser']\n",
    "        })\n",
    "    \n",
    "    match_summary_df = pd.DataFrame(match_summary)\n",
    "    \n",
    "    # Highlight matches where the selected team won\n",
    "    match_summary_df['Selected_Team_Won'] = match_summary_df['Winner'] == team_name\n",
    "    \n",
    "    return {\n",
    "        'detailed': phase_df,               # Detailed innings-by-innings DataFrame\n",
    "        'summary': match_summary_df         # Match-by-match summary DataFrame\n",
    "    }\n"
   ]
  },
  {
   "cell_type": "code",
   "execution_count": 14,
   "id": "4d5ccd0b-aee3-4128-b980-3557e9139ecf",
   "metadata": {},
   "outputs": [
    {
     "data": {
      "text/html": [
       "<div>\n",
       "<style scoped>\n",
       "    .dataframe tbody tr th:only-of-type {\n",
       "        vertical-align: middle;\n",
       "    }\n",
       "\n",
       "    .dataframe tbody tr th {\n",
       "        vertical-align: top;\n",
       "    }\n",
       "\n",
       "    .dataframe thead th {\n",
       "        text-align: right;\n",
       "    }\n",
       "</style>\n",
       "<table border=\"1\" class=\"dataframe\">\n",
       "  <thead>\n",
       "    <tr style=\"text-align: right;\">\n",
       "      <th></th>\n",
       "      <th>Match_ID</th>\n",
       "      <th>Team</th>\n",
       "      <th>Inning Type</th>\n",
       "      <th>PP1_Runs</th>\n",
       "      <th>PP1_Wickets</th>\n",
       "      <th>PP2_Runs</th>\n",
       "      <th>PP2_Wickets</th>\n",
       "      <th>PP3_Runs</th>\n",
       "      <th>PP3_Wickets</th>\n",
       "      <th>PP4_Runs</th>\n",
       "      <th>PP4_Wickets</th>\n",
       "      <th>Total_Runs</th>\n",
       "      <th>Total_Wickets</th>\n",
       "      <th>Winner</th>\n",
       "      <th>Loser</th>\n",
       "      <th>Venue</th>\n",
       "    </tr>\n",
       "  </thead>\n",
       "  <tbody>\n",
       "    <tr>\n",
       "      <th>0</th>\n",
       "      <td>1250340</td>\n",
       "      <td>Surrey</td>\n",
       "      <td>Batting First</td>\n",
       "      <td>26</td>\n",
       "      <td>2</td>\n",
       "      <td>84</td>\n",
       "      <td>2</td>\n",
       "      <td>84</td>\n",
       "      <td>3</td>\n",
       "      <td>128</td>\n",
       "      <td>7</td>\n",
       "      <td>128</td>\n",
       "      <td>7</td>\n",
       "      <td>Surrey</td>\n",
       "      <td>Kent</td>\n",
       "      <td>Kennington Oval, London</td>\n",
       "    </tr>\n",
       "    <tr>\n",
       "      <th>1</th>\n",
       "      <td>1250340</td>\n",
       "      <td>Kent</td>\n",
       "      <td>Chasing</td>\n",
       "      <td>41</td>\n",
       "      <td>0</td>\n",
       "      <td>104</td>\n",
       "      <td>1</td>\n",
       "      <td>83</td>\n",
       "      <td>1</td>\n",
       "      <td>5</td>\n",
       "      <td>0</td>\n",
       "      <td>128</td>\n",
       "      <td>1</td>\n",
       "      <td>Surrey</td>\n",
       "      <td>Kent</td>\n",
       "      <td>Kennington Oval, London</td>\n",
       "    </tr>\n",
       "    <tr>\n",
       "      <th>2</th>\n",
       "      <td>1297905</td>\n",
       "      <td>Kent</td>\n",
       "      <td>Batting First</td>\n",
       "      <td>95</td>\n",
       "      <td>2</td>\n",
       "      <td>140</td>\n",
       "      <td>3</td>\n",
       "      <td>183</td>\n",
       "      <td>5</td>\n",
       "      <td>160</td>\n",
       "      <td>3</td>\n",
       "      <td>191</td>\n",
       "      <td>5</td>\n",
       "      <td>Surrey</td>\n",
       "      <td>Kent</td>\n",
       "      <td>Kennington Oval, London</td>\n",
       "    </tr>\n",
       "    <tr>\n",
       "      <th>3</th>\n",
       "      <td>1297905</td>\n",
       "      <td>Surrey</td>\n",
       "      <td>Chasing</td>\n",
       "      <td>80</td>\n",
       "      <td>1</td>\n",
       "      <td>153</td>\n",
       "      <td>5</td>\n",
       "      <td>107</td>\n",
       "      <td>5</td>\n",
       "      <td>40</td>\n",
       "      <td>2</td>\n",
       "      <td>194</td>\n",
       "      <td>6</td>\n",
       "      <td>Surrey</td>\n",
       "      <td>Kent</td>\n",
       "      <td>Kennington Oval, London</td>\n",
       "    </tr>\n",
       "    <tr>\n",
       "      <th>4</th>\n",
       "      <td>1347575</td>\n",
       "      <td>Surrey</td>\n",
       "      <td>Batting First</td>\n",
       "      <td>67</td>\n",
       "      <td>4</td>\n",
       "      <td>148</td>\n",
       "      <td>4</td>\n",
       "      <td>144</td>\n",
       "      <td>1</td>\n",
       "      <td>166</td>\n",
       "      <td>4</td>\n",
       "      <td>220</td>\n",
       "      <td>5</td>\n",
       "      <td>Surrey</td>\n",
       "      <td>Kent</td>\n",
       "      <td>Kennington Oval, London</td>\n",
       "    </tr>\n",
       "    <tr>\n",
       "      <th>5</th>\n",
       "      <td>1347575</td>\n",
       "      <td>Kent</td>\n",
       "      <td>Chasing</td>\n",
       "      <td>175</td>\n",
       "      <td>7</td>\n",
       "      <td>105</td>\n",
       "      <td>1</td>\n",
       "      <td>70</td>\n",
       "      <td>6</td>\n",
       "      <td>37</td>\n",
       "      <td>2</td>\n",
       "      <td>181</td>\n",
       "      <td>7</td>\n",
       "      <td>Surrey</td>\n",
       "      <td>Kent</td>\n",
       "      <td>Kennington Oval, London</td>\n",
       "    </tr>\n",
       "    <tr>\n",
       "      <th>6</th>\n",
       "      <td>1410458</td>\n",
       "      <td>Surrey</td>\n",
       "      <td>Batting First</td>\n",
       "      <td>87</td>\n",
       "      <td>5</td>\n",
       "      <td>102</td>\n",
       "      <td>5</td>\n",
       "      <td>56</td>\n",
       "      <td>2</td>\n",
       "      <td>0</td>\n",
       "      <td>0</td>\n",
       "      <td>102</td>\n",
       "      <td>5</td>\n",
       "      <td>Surrey</td>\n",
       "      <td>Kent</td>\n",
       "      <td>Kennington Oval, London</td>\n",
       "    </tr>\n",
       "    <tr>\n",
       "      <th>7</th>\n",
       "      <td>1410458</td>\n",
       "      <td>Kent</td>\n",
       "      <td>Chasing</td>\n",
       "      <td>81</td>\n",
       "      <td>2</td>\n",
       "      <td>30</td>\n",
       "      <td>1</td>\n",
       "      <td>0</td>\n",
       "      <td>0</td>\n",
       "      <td>0</td>\n",
       "      <td>0</td>\n",
       "      <td>81</td>\n",
       "      <td>2</td>\n",
       "      <td>Surrey</td>\n",
       "      <td>Kent</td>\n",
       "      <td>Kennington Oval, London</td>\n",
       "    </tr>\n",
       "  </tbody>\n",
       "</table>\n",
       "</div>"
      ],
      "text/plain": [
       "   Match_ID    Team    Inning Type  PP1_Runs  PP1_Wickets  PP2_Runs  PP2_Wickets  PP3_Runs  PP3_Wickets  PP4_Runs  PP4_Wickets  Total_Runs  Total_Wickets  Winner Loser                    Venue\n",
       "0   1250340  Surrey  Batting First        26            2        84            2        84            3       128            7         128              7  Surrey  Kent  Kennington Oval, London\n",
       "1   1250340    Kent        Chasing        41            0       104            1        83            1         5            0         128              1  Surrey  Kent  Kennington Oval, London\n",
       "2   1297905    Kent  Batting First        95            2       140            3       183            5       160            3         191              5  Surrey  Kent  Kennington Oval, London\n",
       "3   1297905  Surrey        Chasing        80            1       153            5       107            5        40            2         194              6  Surrey  Kent  Kennington Oval, London\n",
       "4   1347575  Surrey  Batting First        67            4       148            4       144            1       166            4         220              5  Surrey  Kent  Kennington Oval, London\n",
       "5   1347575    Kent        Chasing       175            7       105            1        70            6        37            2         181              7  Surrey  Kent  Kennington Oval, London\n",
       "6   1410458  Surrey  Batting First        87            5       102            5        56            2         0            0         102              5  Surrey  Kent  Kennington Oval, London\n",
       "7   1410458    Kent        Chasing        81            2        30            1         0            0         0            0          81              2  Surrey  Kent  Kennington Oval, London"
      ]
     },
     "metadata": {},
     "output_type": "display_data"
    },
    {
     "data": {
      "text/html": [
       "<div>\n",
       "<style scoped>\n",
       "    .dataframe tbody tr th:only-of-type {\n",
       "        vertical-align: middle;\n",
       "    }\n",
       "\n",
       "    .dataframe tbody tr th {\n",
       "        vertical-align: top;\n",
       "    }\n",
       "\n",
       "    .dataframe thead th {\n",
       "        text-align: right;\n",
       "    }\n",
       "</style>\n",
       "<table border=\"1\" class=\"dataframe\">\n",
       "  <thead>\n",
       "    <tr style=\"text-align: right;\">\n",
       "      <th></th>\n",
       "      <th>Match_ID</th>\n",
       "      <th>Venue</th>\n",
       "      <th>Team1</th>\n",
       "      <th>Team2</th>\n",
       "      <th>Team1_PP1_Runs</th>\n",
       "      <th>Team1_PP1_Wickets</th>\n",
       "      <th>Team1_PP2_Runs</th>\n",
       "      <th>Team1_PP2_Wickets</th>\n",
       "      <th>Team1_PP3_Runs</th>\n",
       "      <th>Team1_PP3_Wickets</th>\n",
       "      <th>Team1_PP4_Runs</th>\n",
       "      <th>Team1_PP4_Wickets</th>\n",
       "      <th>Team1_Total</th>\n",
       "      <th>Team2_PP1_Runs</th>\n",
       "      <th>Team2_PP1_Wickets</th>\n",
       "      <th>Team2_PP2_Runs</th>\n",
       "      <th>Team2_PP2_Wickets</th>\n",
       "      <th>Team2_PP3_Runs</th>\n",
       "      <th>Team2_PP3_Wickets</th>\n",
       "      <th>Team2_PP4_Runs</th>\n",
       "      <th>Team2_PP4_Wickets</th>\n",
       "      <th>Team2_Total</th>\n",
       "      <th>Winner</th>\n",
       "      <th>Loser</th>\n",
       "      <th>Selected_Team_Won</th>\n",
       "    </tr>\n",
       "  </thead>\n",
       "  <tbody>\n",
       "    <tr>\n",
       "      <th>0</th>\n",
       "      <td>1250340</td>\n",
       "      <td>Kennington Oval, London</td>\n",
       "      <td>Surrey</td>\n",
       "      <td>Kent</td>\n",
       "      <td>26</td>\n",
       "      <td>2</td>\n",
       "      <td>84</td>\n",
       "      <td>2</td>\n",
       "      <td>84</td>\n",
       "      <td>3</td>\n",
       "      <td>128</td>\n",
       "      <td>7</td>\n",
       "      <td>128</td>\n",
       "      <td>41</td>\n",
       "      <td>0</td>\n",
       "      <td>104</td>\n",
       "      <td>1</td>\n",
       "      <td>83</td>\n",
       "      <td>1</td>\n",
       "      <td>5</td>\n",
       "      <td>0</td>\n",
       "      <td>128</td>\n",
       "      <td>Surrey</td>\n",
       "      <td>Kent</td>\n",
       "      <td>False</td>\n",
       "    </tr>\n",
       "    <tr>\n",
       "      <th>1</th>\n",
       "      <td>1297905</td>\n",
       "      <td>Kennington Oval, London</td>\n",
       "      <td>Kent</td>\n",
       "      <td>Surrey</td>\n",
       "      <td>95</td>\n",
       "      <td>2</td>\n",
       "      <td>140</td>\n",
       "      <td>3</td>\n",
       "      <td>183</td>\n",
       "      <td>5</td>\n",
       "      <td>160</td>\n",
       "      <td>3</td>\n",
       "      <td>191</td>\n",
       "      <td>80</td>\n",
       "      <td>1</td>\n",
       "      <td>153</td>\n",
       "      <td>5</td>\n",
       "      <td>107</td>\n",
       "      <td>5</td>\n",
       "      <td>40</td>\n",
       "      <td>2</td>\n",
       "      <td>194</td>\n",
       "      <td>Surrey</td>\n",
       "      <td>Kent</td>\n",
       "      <td>False</td>\n",
       "    </tr>\n",
       "    <tr>\n",
       "      <th>2</th>\n",
       "      <td>1347575</td>\n",
       "      <td>Kennington Oval, London</td>\n",
       "      <td>Surrey</td>\n",
       "      <td>Kent</td>\n",
       "      <td>67</td>\n",
       "      <td>4</td>\n",
       "      <td>148</td>\n",
       "      <td>4</td>\n",
       "      <td>144</td>\n",
       "      <td>1</td>\n",
       "      <td>166</td>\n",
       "      <td>4</td>\n",
       "      <td>220</td>\n",
       "      <td>175</td>\n",
       "      <td>7</td>\n",
       "      <td>105</td>\n",
       "      <td>1</td>\n",
       "      <td>70</td>\n",
       "      <td>6</td>\n",
       "      <td>37</td>\n",
       "      <td>2</td>\n",
       "      <td>181</td>\n",
       "      <td>Surrey</td>\n",
       "      <td>Kent</td>\n",
       "      <td>False</td>\n",
       "    </tr>\n",
       "    <tr>\n",
       "      <th>3</th>\n",
       "      <td>1410458</td>\n",
       "      <td>Kennington Oval, London</td>\n",
       "      <td>Surrey</td>\n",
       "      <td>Kent</td>\n",
       "      <td>87</td>\n",
       "      <td>5</td>\n",
       "      <td>102</td>\n",
       "      <td>5</td>\n",
       "      <td>56</td>\n",
       "      <td>2</td>\n",
       "      <td>0</td>\n",
       "      <td>0</td>\n",
       "      <td>102</td>\n",
       "      <td>81</td>\n",
       "      <td>2</td>\n",
       "      <td>30</td>\n",
       "      <td>1</td>\n",
       "      <td>0</td>\n",
       "      <td>0</td>\n",
       "      <td>0</td>\n",
       "      <td>0</td>\n",
       "      <td>81</td>\n",
       "      <td>Surrey</td>\n",
       "      <td>Kent</td>\n",
       "      <td>False</td>\n",
       "    </tr>\n",
       "  </tbody>\n",
       "</table>\n",
       "</div>"
      ],
      "text/plain": [
       "   Match_ID                    Venue   Team1   Team2  Team1_PP1_Runs  Team1_PP1_Wickets  Team1_PP2_Runs  Team1_PP2_Wickets  Team1_PP3_Runs  Team1_PP3_Wickets  Team1_PP4_Runs  Team1_PP4_Wickets  Team1_Total  Team2_PP1_Runs  Team2_PP1_Wickets  Team2_PP2_Runs  Team2_PP2_Wickets  Team2_PP3_Runs  Team2_PP3_Wickets  Team2_PP4_Runs  Team2_PP4_Wickets  Team2_Total  Winner Loser  Selected_Team_Won\n",
       "0   1250340  Kennington Oval, London  Surrey    Kent              26                  2              84                  2              84                  3             128                  7          128              41                  0             104                  1              83                  1               5                  0          128  Surrey  Kent              False\n",
       "1   1297905  Kennington Oval, London    Kent  Surrey              95                  2             140                  3             183                  5             160                  3          191              80                  1             153                  5             107                  5              40                  2          194  Surrey  Kent              False\n",
       "2   1347575  Kennington Oval, London  Surrey    Kent              67                  4             148                  4             144                  1             166                  4          220             175                  7             105                  1              70                  6              37                  2          181  Surrey  Kent              False\n",
       "3   1410458  Kennington Oval, London  Surrey    Kent              87                  5             102                  5              56                  2               0                  0          102              81                  2              30                  1               0                  0               0                  0           81  Surrey  Kent              False"
      ]
     },
     "metadata": {},
     "output_type": "display_data"
    }
   ],
   "source": [
    "\n",
    "result = analyze_phase_patterns_with_dataframe(df, \"Kent\", \"Kennington Oval, London\")\n",
    "\n",
    "if not result['detailed'].empty:\n",
    "    display(result['detailed'].tail(14))   # Shows the last 14 rows as a table\n",
    "    display(result['summary'])             # Shows the summary table\n",
    "else:\n",
    "    print(\"No data available for this team and venue combination.\")\n"
   ]
  },
  {
   "cell_type": "code",
   "execution_count": 15,
   "id": "b68faf39-8633-46f4-859e-5df4fd4e1fa6",
   "metadata": {},
   "outputs": [
    {
     "name": "stdout",
     "output_type": "stream",
     "text": [
      "[1250237 1250241 1250287 1250324 1250338 1250353 1269929 1297803 1297810\n",
      " 1297822 1297831 1297914 1297922 1347573 1347583 1347648 1347671 1347688\n",
      " 1347695 1410373 1410388 1410397 1410454 1410482 1410492 1460754 1460763\n",
      " 1460772]\n"
     ]
    }
   ],
   "source": [
    "#filter by Venue match_id\n",
    "venue_id= df[df['venue'] == \"Old Trafford, Manchester\"]['match_id'].unique()\n",
    "print(venue_id)"
   ]
  },
  {
   "cell_type": "code",
   "execution_count": 16,
   "id": "aadb56a2-abc9-4f8b-8ebd-98fb5d6d9d60",
   "metadata": {},
   "outputs": [
    {
     "data": {
      "text/plain": [
       "array(['Trent Bridge', 'Headingley', 'Grace Road', 'Riverside Ground',\n",
       "       'The Rose Bowl', \"Lord's\", 'Old Trafford',\n",
       "       'The Cooper Associates County Ground', 'County Ground',\n",
       "       \"Merchant Taylors' School Ground\", 'St Lawrence Ground',\n",
       "       'Sophia Gardens', 'County Ground, New Road', 'Kennington Oval',\n",
       "       'Arundel Castle Cricket Club Ground', 'Edgbaston', 'Old Deer Park',\n",
       "       \"Queen's Park\", 'Castle Park Cricket Ground', 'College Ground',\n",
       "       'The Kent County Cricket Ground', 'Uxbridge Cricket Club Ground',\n",
       "       'Nevill Ground', 'Kent County Cricket Ground', 'Aigburth',\n",
       "       'County Ground, Hove', 'Radlett Cricket Club',\n",
       "       'St Lawrence Ground, Canterbury', 'Old Trafford, Manchester',\n",
       "       'County Ground, New Road, Worcester',\n",
       "       'The Cooper Associates County Ground, Taunton',\n",
       "       'Headingley, Leeds', \"Lord's, London\", 'Sophia Gardens, Cardiff',\n",
       "       'County Ground, Bristol', 'Riverside Ground, Chester-le-Street',\n",
       "       'County Ground, Chelmsford', 'County Ground, Northampton',\n",
       "       'Trent Bridge, Nottingham', 'Grace Road, Leicester',\n",
       "       'County Ground, Derby', 'Kennington Oval, London',\n",
       "       'Radlett Cricket Club, Radlett', 'Edgbaston, Birmingham',\n",
       "       'The Rose Bowl, Southampton', 'College Ground, Cheltenham',\n",
       "       \"Queen's Park, Chesterfield\", 'Stanley Park, Blackpool',\n",
       "       \"Merchant Taylors' School Ground, Northwood\"], dtype=object)"
      ]
     },
     "execution_count": 16,
     "metadata": {},
     "output_type": "execute_result"
    }
   ],
   "source": [
    "df.venue.unique()"
   ]
  },
  {
   "cell_type": "code",
   "execution_count": 17,
   "id": "471e2c49-1053-4e5c-a5ca-cb868f1adfcf",
   "metadata": {},
   "outputs": [
    {
     "data": {
      "text/plain": [
       "array(['Lancashire', 'Nottinghamshire', 'Northamptonshire', 'Yorkshire',\n",
       "       'Derbyshire', 'Leicestershire', 'Worcestershire', 'Durham',\n",
       "       'Hampshire', 'Glamorgan', 'Essex', 'Middlesex', 'Sussex',\n",
       "       'Somerset', 'Surrey', 'Kent', 'Gloucestershire', 'Warwickshire',\n",
       "       'Birmingham Bears'], dtype=object)"
      ]
     },
     "execution_count": 17,
     "metadata": {},
     "output_type": "execute_result"
    }
   ],
   "source": [
    "df.batting_team.unique()"
   ]
  },
  {
   "cell_type": "code",
   "execution_count": 18,
   "id": "0023f0e4-8d32-4dc9-86e5-ed602e019457",
   "metadata": {},
   "outputs": [
    {
     "name": "stdout",
     "output_type": "stream",
     "text": [
      "[ 693031  804527  804619  947191  947267 1068356 1068404 1127528 1127556\n",
      " 1167128 1167257 1250238 1250293 1297807 1297915 1347608 1347666 1410392\n",
      " 1410419]\n"
     ]
    }
   ],
   "source": [
    "common_matches = df[\n",
    "    (df['batting_team'] ==  'Worcestershire') & \n",
    "    (df['bowling_team'] == 'Nottinghamshire')\n",
    "]['match_id'].unique()\n",
    "\n",
    "print(common_matches)\n"
   ]
  },
  {
   "cell_type": "code",
   "execution_count": 19,
   "id": "829e9f13-8301-43fa-bba2-80a90731836a",
   "metadata": {},
   "outputs": [],
   "source": [
    "import plotly.graph_objects as go\n",
    "import pandas as pd\n",
    "\n",
    "def analyze_phase_pattern(df, team_name):\n",
    "    # First get all unique match IDs\n",
    "    all_match_ids = df['match_id'].unique()\n",
    "    \n",
    "    # Filter to keep only matches where team_name participated\n",
    "    teams_match_ids = []\n",
    "    \n",
    "    for match_id in all_match_ids:\n",
    "        match_data = df[df['match_id'] == match_id]\n",
    "        batting_teams = match_data['batting_team'].unique()\n",
    "        if team_name in batting_teams:\n",
    "            teams_match_ids.append(match_id)\n",
    "    \n",
    "    if not teams_match_ids:\n",
    "        print(f\"No matches found for team: {team_name}\")\n",
    "        return None\n",
    "        \n",
    "    # Continue with the rest of the function using these match IDs\n",
    "    df = df[df.match_id.isin(teams_match_ids)]\n",
    "    \n",
    "    all_phase_data = []\n",
    "    fig = go.Figure()\n",
    "\n",
    "    for match_id in teams_match_ids:\n",
    "        df_match = df[df.match_id == match_id]\n",
    "        df1 = df_match[df_match.inning == 1].reset_index(drop=True)\n",
    "        df2 = df_match[df_match.inning == 2].reset_index(drop=True)\n",
    "\n",
    "        # Skip incomplete matches\n",
    "        if df1.empty or df2.empty:\n",
    "            continue\n",
    "\n",
    "        df1['cum_runs'] = df1['total_runs'].cumsum()\n",
    "        df2['cum_runs'] = df2['total_runs'].cumsum()\n",
    "\n",
    "        df1['over_ball'] = df1['over'] + df1['ball'] / 10\n",
    "        df2['over_ball'] = df2['over'] + df2['ball'] / 10\n",
    "\n",
    "        df1['wicket'] = df1['is_wicket'].cumsum()\n",
    "        df2['wicket'] = df2['is_wicket'].cumsum()\n",
    "\n",
    "        def get_stats(df, start_over, end_over):\n",
    "            df_filtered = df[(df['over_ball'] >= start_over) & (df['over_ball'] <= end_over)]\n",
    "            if df_filtered.empty:\n",
    "                return 0, 0\n",
    "            return df_filtered['cum_runs'].iloc[-1] - df_filtered['cum_runs'].iloc[0], df_filtered['wicket'].iloc[-1] - df_filtered['wicket'].iloc[0]\n",
    "\n",
    "        # Compute stats for each phase\n",
    "        pp1_runs1, pp1_wickets1 = get_stats(df1, 0, 5.6)\n",
    "        pp1_runs2, pp1_wickets2 = get_stats(df2, 0, 5.6)\n",
    "\n",
    "        pp2_runs1, pp2_wickets1 = get_stats(df1, 5.7, 9.6)\n",
    "        pp2_runs2, pp2_wickets2 = get_stats(df2, 5.7, 9.6)\n",
    "\n",
    "        pp3_runs1, pp3_wickets1 = get_stats(df1, 9.7, 14.6)\n",
    "        pp3_runs2, pp3_wickets2 = get_stats(df2, 9.7, 14.6)\n",
    "\n",
    "        pp4_runs1, pp4_wickets1 = get_stats(df1, 14.7, df1['over_ball'].max())\n",
    "        pp4_runs2, pp4_wickets2 = get_stats(df2, 14.7, df2['over_ball'].max())\n",
    "\n",
    "        total_runs1, total_wickets1 = get_stats(df1, 0, df1['over_ball'].max())\n",
    "        total_runs2, total_wickets2 = get_stats(df2, 0, df2['over_ball'].max())\n",
    "\n",
    "        team1 = df1.batting_team.iloc[0]\n",
    "        team2 = df2.batting_team.iloc[0]\n",
    "        target = total_runs1 + 1  \n",
    "        winner = team2 if total_runs2 >= target else team1  \n",
    "\n",
    "        # Highlight the specified team in the visualization\n",
    "        team1_color = \"rgba(255, 0, 0, 1)\" if team1 == team_name else \"rgba(0, 0, 255, 0.7)\"\n",
    "        team2_color = \"rgba(255, 0, 0, 1)\" if team2 == team_name else \"rgba(0, 0, 255, 0.7)\"\n",
    "        \n",
    "        team1_width = 3 if team1 == team_name else 2\n",
    "        team2_width = 3 if team2 == team_name else 2\n",
    "\n",
    "        all_phase_data.append([match_id, team1, \"Batting First\", pp1_runs1, pp1_wickets1, pp2_runs1, pp2_wickets1, pp3_runs1, pp3_wickets1, pp4_runs1, pp4_wickets1, total_runs1, total_wickets1, winner])\n",
    "        all_phase_data.append([match_id, team2, \"Chasing\", pp1_runs2, pp1_wickets2, pp2_runs2, pp2_wickets2, pp3_runs2, pp3_wickets2, pp4_runs2, pp4_wickets2, total_runs2, total_wickets2, winner])\n",
    "\n",
    "        fig.add_trace(go.Scatter(x=df1['over_ball'], y=df1.cum_runs, mode='lines', name=f\"{team1} - Match {match_id}\", line=dict(width=team1_width, color=team1_color)))\n",
    "        fig.add_trace(go.Scatter(x=df2['over_ball'], y=df2.cum_runs, mode='lines', name=f\"{team2} - Match {match_id}\", line=dict(width=team2_width, color=team2_color)))\n",
    "\n",
    "    if not all_phase_data:\n",
    "        print(f\"No complete matches found for team: {team_name}\")\n",
    "        return None\n",
    "        \n",
    "    phase_df = pd.DataFrame(all_phase_data, columns=['Match_ID', 'Team', 'Inning Type', 'PP1_Runs', 'PP1_Wickets', 'PP2_Runs', 'PP2_Wickets', 'PP3_Runs', 'PP3_Wickets', 'PP4_Runs', 'PP4_Wickets', 'Total_Runs', 'Total_Wickets', 'Winner'])\n",
    "\n",
    "    # Filter phase_df to focus on the specified team's performance\n",
    "    team_phase_df = phase_df[phase_df['Team'] == team_name]\n",
    "    \n",
    "    # Calculate average metrics for when the team wins vs loses\n",
    "    team_wins = team_phase_df[team_phase_df['Team'] == team_phase_df['Winner']]\n",
    "    team_losses = team_phase_df[team_phase_df['Team'] != team_phase_df['Winner']]\n",
    "    \n",
    "    avg_team_win = team_wins.mean(numeric_only=True) if not team_wins.empty else pd.Series([0] * 10, index=['PP1_Runs', 'PP1_Wickets', 'PP2_Runs', 'PP2_Wickets', 'PP3_Runs', 'PP3_Wickets', 'PP4_Runs', 'PP4_Wickets', 'Total_Runs', 'Total_Wickets'])\n",
    "    avg_team_loss = team_losses.mean(numeric_only=True) if not team_losses.empty else pd.Series([0] * 10, index=['PP1_Runs', 'PP1_Wickets', 'PP2_Runs', 'PP2_Wickets', 'PP3_Runs', 'PP3_Wickets', 'PP4_Runs', 'PP4_Wickets', 'Total_Runs', 'Total_Wickets'])\n",
    "    \n",
    "    win_rate = len(team_wins) / len(team_phase_df) * 100 if len(team_phase_df) > 0 else 0\n",
    "\n",
    "    summary_text = (\n",
    "        f\"{team_name} Win Rate: {win_rate:.1f}% ({len(team_wins)} of {len(team_phase_df)} matches)\\n\"\n",
    "        f\"{team_name} When Winning: PP1 {avg_team_win['PP1_Runs']:.1f}r/{avg_team_win['PP1_Wickets']:.1f}w, \"\n",
    "        f\"PP2 {avg_team_win['PP2_Runs']:.1f}r/{avg_team_win['PP2_Wickets']:.1f}w, \"\n",
    "        f\"PP3 {avg_team_win['PP3_Runs']:.1f}r/{avg_team_win['PP3_Wickets']:.1f}w, \"\n",
    "        f\"PP4 {avg_team_win['PP4_Runs']:.1f}r/{avg_team_win['PP4_Wickets']:.1f}w\\n\"\n",
    "        f\"{team_name} When Losing: PP1 {avg_team_loss['PP1_Runs']:.1f}r/{avg_team_loss['PP1_Wickets']:.1f}w, \"\n",
    "        f\"PP2 {avg_team_loss['PP2_Runs']:.1f}r/{avg_team_loss['PP2_Wickets']:.1f}w, \"\n",
    "        f\"PP3 {avg_team_loss['PP3_Runs']:.1f}r/{avg_team_loss['PP3_Wickets']:.1f}w, \"\n",
    "        f\"PP4 {avg_team_loss['PP4_Runs']:.1f}r/{avg_team_loss['PP4_Wickets']:.1f}w\"\n",
    "    )\n",
    "\n",
    "    fig.add_vrect(x0=0, x1=5.6, fillcolor=\"red\", opacity=0.2, layer=\"below\", line_width=0)\n",
    "    fig.add_vrect(x0=5.7, x1=9.6, fillcolor=\"yellow\", opacity=0.2, layer=\"below\", line_width=0)\n",
    "    fig.add_vrect(x0=9.7, x1=14.6, fillcolor=\"orange\", opacity=0.2, layer=\"below\", line_width=0)\n",
    "    fig.add_vrect(x0=14.7, x1=20, fillcolor=\"green\", opacity=0.2, layer=\"below\", line_width=0)\n",
    "\n",
    "    # Get max values for annotation positioning\n",
    "    y_values = []\n",
    "    for trace in fig.data:\n",
    "        if hasattr(trace, 'y') and trace.y is not None:\n",
    "            y_values.extend(trace.y)\n",
    "    \n",
    "    max_y = max(y_values) if y_values else 200\n",
    "    \n",
    "    fig.add_annotation(x=2.5, y=max_y * 0.2, text=\"PP1\", showarrow=False, font=dict(size=12))\n",
    "    fig.add_annotation(x=7.5, y=max_y * 0.2, text=\"PP2\", showarrow=False, font=dict(size=12))\n",
    "    fig.add_annotation(x=12, y=max_y * 0.2, text=\"PP3\", showarrow=False, font=dict(size=12))\n",
    "    fig.add_annotation(x=17, y=max_y * 0.2, text=\"PP4\", showarrow=False, font=dict(size=12))\n",
    "\n",
    "    fig.add_annotation(\n",
    "        text=summary_text,\n",
    "        xref=\"paper\", yref=\"paper\",\n",
    "        x=0.50, y=.95,\n",
    "        showarrow=False,\n",
    "        font=dict(size=10.2),\n",
    "        bordercolor=\"black\",\n",
    "        borderwidth=1,\n",
    "        bgcolor=\"lightgray\",\n",
    "        align=\"left\"\n",
    "    )\n",
    "\n",
    "    fig.update_layout(\n",
    "        title=f\"{team_name} - Performance Analysis Across {len(teams_match_ids)} Matches\",\n",
    "        xaxis_title='Overs',\n",
    "        yaxis_title='Runs',\n",
    "        template='plotly_dark',\n",
    "        width=1100,\n",
    "        height=600,\n",
    "        legend=dict(x=0.02, y=-0.2, orientation=\"h\", bgcolor=\"rgba(0,0,0,0.5)\")\n",
    "    )\n",
    "\n",
    "    # Print team performance summary\n",
    "    print(f\"\\n📊 {team_name} Performance Analysis 📊\")\n",
    "    print(\"=\"*50)\n",
    "    print(f\"🏏 Total Matches Analyzed: {len(team_phase_df)}\")\n",
    "    print(f\"🏆 Matches Won: {len(team_wins)} ({win_rate:.1f}%)\")\n",
    "    print(f\"💔 Matches Lost: {len(team_losses)}\")\n",
    "    print(\"\\n⚡ Phase-wise Performance (Averages):\")\n",
    "    print(\"-----------------------------------\")\n",
    "    print(\"|   PP1   |   PP2   |   PP3   |   PP4   |  Total\")\n",
    "    print(\"| R | W  | R | W  | R | W  | R | W  | Runs | Wkts\")\n",
    "    print(\"-\"*55)\n",
    "    \n",
    "    # Winning performance\n",
    "    print(f\"🏅 When Winning:\")\n",
    "    print(f\"Runs  | {avg_team_win['PP1_Runs']:3.1f} | {avg_team_win['PP2_Runs']:3.1f} | {avg_team_win['PP3_Runs']:3.1f} | {avg_team_win['PP4_Runs']:3.1f} | {avg_team_win['Total_Runs']:5.1f}\")\n",
    "    print(f\"Wkts  | {avg_team_win['PP1_Wickets']:3.1f} | {avg_team_win['PP2_Wickets']:3.1f} | {avg_team_win['PP3_Wickets']:3.1f} | {avg_team_win['PP4_Wickets']:3.1f} | {avg_team_win['Total_Wickets']:5.1f}\")\n",
    "    \n",
    "    # Losing performance\n",
    "    print(f\"\\n💥 When Losing:\")\n",
    "    print(f\"Runs  | {avg_team_loss['PP1_Runs']:3.1f} | {avg_team_loss['PP2_Runs']:3.1f} | {avg_team_loss['PP3_Runs']:3.1f} | {avg_team_loss['PP4_Runs']:3.1f} | {avg_team_loss['Total_Runs']:5.1f}\")\n",
    "    print(f\"Wkts  | {avg_team_loss['PP1_Wickets']:3.1f} | {avg_team_loss['PP2_Wickets']:3.1f} | {avg_team_loss['PP3_Wickets']:3.1f} | {avg_team_loss['PP4_Wickets']:3.1f} | {avg_team_loss['Total_Wickets']:5.1f}\")\n",
    "    \n",
    "    # Print key metrics\n",
    "    print(\"\\n🔑 Key Metrics:\")\n",
    "    print(f\"🎯 Highest Score: {team_phase_df['Total_Runs'].max():.0f}\")\n",
    "    print(f\"📉 Lowest Score: {team_phase_df['Total_Runs'].min():.0f}\")\n",
    "    print(f\"🏹 Best Bowling: {team_phase_df['Total_Wickets'].max()} wickets\")\n",
    "    print(f\"⚡ Best Powerplay: {team_phase_df['PP1_Runs'].max():.0f} runs\")\n",
    "    \n",
    "    # Print phase definitions\n",
    "    print(\"\\n📌 Phase Definitions:\")\n",
    "    print(\"PP1: Powerplay 1 (Overs 0.1-5.6)\")\n",
    "    print(\"PP2: Powerplay 2 (Overs 5.7-9.6)\")\n",
    "    print(\"PP3: Middle Overs (Overs 9.7-14.6)\")\n",
    "    print(\"PP4: Death Overs (Overs 14.7-20.0)\")\n",
    "\n"
   ]
  },
  {
   "cell_type": "code",
   "execution_count": 20,
   "id": "719b8591-b7c0-4737-883e-e7e2458e2c53",
   "metadata": {},
   "outputs": [
    {
     "name": "stdout",
     "output_type": "stream",
     "text": [
      "\n",
      "📊 Kent Performance Analysis 📊\n",
      "==================================================\n",
      "🏏 Total Matches Analyzed: 150\n",
      "🏆 Matches Won: 71 (47.3%)\n",
      "💔 Matches Lost: 79\n",
      "\n",
      "⚡ Phase-wise Performance (Averages):\n",
      "-----------------------------------\n",
      "|   PP1   |   PP2   |   PP3   |   PP4   |  Total\n",
      "| R | W  | R | W  | R | W  | R | W  | Runs | Wkts\n",
      "-------------------------------------------------------\n",
      "🏅 When Winning:\n",
      "Runs  | 88.4 | 103.5 | 95.8 | 102.0 | 175.8\n",
      "Wkts  | 2.4 | 3.0 | 3.2 | 3.5 |   5.6\n",
      "\n",
      "💥 When Losing:\n",
      "Runs  | 96.4 | 89.6 | 88.1 | 67.8 | 151.0\n",
      "Wkts  | 3.8 | 4.1 | 4.5 | 3.5 |   6.9\n",
      "\n",
      "🔑 Key Metrics:\n",
      "🎯 Highest Score: 232\n",
      "📉 Lowest Score: 46\n",
      "🏹 Best Bowling: 10 wickets\n",
      "⚡ Best Powerplay: 226 runs\n",
      "\n",
      "📌 Phase Definitions:\n",
      "PP1: Powerplay 1 (Overs 0.1-5.6)\n",
      "PP2: Powerplay 2 (Overs 5.7-9.6)\n",
      "PP3: Middle Overs (Overs 9.7-14.6)\n",
      "PP4: Death Overs (Overs 14.7-20.0)\n"
     ]
    }
   ],
   "source": [
    "phase_stats = analyze_phase_pattern(df,'Kent')"
   ]
  },
  {
   "cell_type": "code",
   "execution_count": null,
   "id": "b45a717d-999e-42f7-84b5-d230df61b9d0",
   "metadata": {},
   "outputs": [],
   "source": []
  }
 ],
 "metadata": {
  "kernelspec": {
   "display_name": "Python [conda env:base] *",
   "language": "python",
   "name": "conda-base-py"
  },
  "language_info": {
   "codemirror_mode": {
    "name": "ipython",
    "version": 3
   },
   "file_extension": ".py",
   "mimetype": "text/x-python",
   "name": "python",
   "nbconvert_exporter": "python",
   "pygments_lexer": "ipython3",
   "version": "3.12.3"
  }
 },
 "nbformat": 4,
 "nbformat_minor": 5
}
